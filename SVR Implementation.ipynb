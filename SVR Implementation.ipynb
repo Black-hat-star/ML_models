{
 "cells": [
  {
   "cell_type": "markdown",
   "metadata": {
    "id": "Axw2b2T_qIqr"
   },
   "source": [
    "## Support Vector Regressor Implementation"
   ]
  },
  {
   "cell_type": "code",
   "execution_count": 1,
   "metadata": {
    "executionInfo": {
     "elapsed": 5,
     "status": "ok",
     "timestamp": 1693385869774,
     "user": {
      "displayName": "Vipil Khapre",
      "userId": "11657927420291305997"
     },
     "user_tz": -330
    },
    "id": "OtNC7x5AqIqt"
   },
   "outputs": [],
   "source": [
    "import pandas as pd\n",
    "import numpy as np\n",
    "import seaborn as sns\n",
    "import matplotlib.pyplot as plt\n",
    "import seaborn as sns"
   ]
  },
  {
   "cell_type": "code",
   "execution_count": 2,
   "metadata": {
    "executionInfo": {
     "elapsed": 1841,
     "status": "ok",
     "timestamp": 1693385873397,
     "user": {
      "displayName": "Vipil Khapre",
      "userId": "11657927420291305997"
     },
     "user_tz": -330
    },
    "id": "OHmYNrngqIqw"
   },
   "outputs": [],
   "source": [
    "## Lets create synthetic data points\n",
    "from sklearn.datasets import make_regression"
   ]
  },
  {
   "cell_type": "code",
   "execution_count": 3,
   "metadata": {
    "executionInfo": {
     "elapsed": 11,
     "status": "ok",
     "timestamp": 1693385873398,
     "user": {
      "displayName": "Vipil Khapre",
      "userId": "11657927420291305997"
     },
     "user_tz": -330
    },
    "id": "zl7NMDd8qIqx"
   },
   "outputs": [],
   "source": [
    "X,y=make_regression(n_samples=1000,n_features=2,n_targets=1,noise=3.0)"
   ]
  },
  {
   "cell_type": "code",
   "execution_count": 4,
   "metadata": {
    "colab": {
     "base_uri": "https://localhost:8080/"
    },
    "executionInfo": {
     "elapsed": 8,
     "status": "ok",
     "timestamp": 1693385878650,
     "user": {
      "displayName": "Vipil Khapre",
      "userId": "11657927420291305997"
     },
     "user_tz": -330
    },
    "id": "_76mOhJZqIqx",
    "outputId": "7a9be647-fb83-4cdc-b611-330be4db0b85"
   },
   "outputs": [
    {
     "data": {
      "text/plain": [
       "array([[ 1.83520842,  0.96677305],\n",
       "       [-1.01939081, -0.19018182],\n",
       "       [-1.16927481,  1.95959601],\n",
       "       ...,\n",
       "       [ 0.79943112, -0.60825828],\n",
       "       [ 0.75396352,  0.64172588],\n",
       "       [ 0.38219784, -0.75915027]])"
      ]
     },
     "execution_count": 4,
     "metadata": {},
     "output_type": "execute_result"
    }
   ],
   "source": [
    "X"
   ]
  },
  {
   "cell_type": "code",
   "execution_count": 5,
   "metadata": {
    "colab": {
     "base_uri": "https://localhost:8080/"
    },
    "executionInfo": {
     "elapsed": 9,
     "status": "ok",
     "timestamp": 1693385881569,
     "user": {
      "displayName": "Vipil Khapre",
      "userId": "11657927420291305997"
     },
     "user_tz": -330
    },
    "id": "JhvzUeMFqIqz",
    "outputId": "eb84e249-aede-46a0-d9de-411749004e2b"
   },
   "outputs": [
    {
     "data": {
      "text/plain": [
       "array([ 1.29525846e+02, -7.28838527e+01, -5.78680180e+01, -3.55414970e+01,\n",
       "       -2.32373713e+01,  5.50843209e+00,  9.18717421e+01, -9.82144401e+01,\n",
       "        2.77947609e+01,  1.22867551e+02, -5.60667533e+01,  8.40940404e+00,\n",
       "       -4.12698582e+01, -6.25680733e+01, -8.69824259e+00,  2.66238214e+01,\n",
       "       -2.97007965e+01,  7.81770710e+01,  2.05372000e+01,  6.73712638e+01,\n",
       "       -3.03317853e+00, -1.28293900e+02,  3.03518378e+01, -6.46308282e+01,\n",
       "        3.53520175e+01, -5.10716765e+01, -2.21889563e+01,  6.44193046e+01,\n",
       "       -2.39866074e+01,  2.05921248e+01,  6.45331045e+01,  8.07117785e+01,\n",
       "        1.14231487e+02,  4.69477175e+01, -6.09378834e+01, -1.23150810e+02,\n",
       "       -7.51561774e+01,  3.25187038e+01,  8.37323428e+01, -4.14679525e+01,\n",
       "       -2.66645711e+01,  7.53799078e+01, -6.95232650e+01, -8.62106733e+01,\n",
       "        9.04321541e+01, -2.27262100e+01, -9.30473467e+01,  4.74536297e+01,\n",
       "       -1.02087981e+01,  1.00545884e+02, -4.67838371e+00,  9.99889953e+00,\n",
       "        1.34230171e+01,  1.47258792e+02, -7.56813991e-01,  4.52058264e+01,\n",
       "        9.76842599e+00,  5.73953340e+00,  3.11534026e+01,  1.15084118e+02,\n",
       "       -1.33618508e+02,  4.65450308e+01, -3.78887286e+01, -9.56155554e+01,\n",
       "       -4.63953800e+01,  5.50747107e+01, -5.02200843e+01,  7.00512246e+01,\n",
       "        5.85298100e+01, -1.90218517e+01,  3.52466591e+00,  1.34114572e+01,\n",
       "        4.73789431e+01,  2.12011273e+01, -1.52293929e+02,  9.28225725e+01,\n",
       "        8.17791887e+01, -3.46912282e+01, -1.32870584e+02, -1.03851919e+02,\n",
       "       -5.25289778e+01, -6.46546775e+01,  5.80309454e+01,  6.20465558e+01,\n",
       "       -4.35553459e+01,  4.43261035e+01,  4.32449614e+01, -6.78896409e+01,\n",
       "       -1.66028605e+02,  7.62486721e+01, -7.84333657e+01,  8.14927306e+01,\n",
       "       -7.11217615e+01, -3.89841305e+01, -1.00711526e+02,  3.28316947e+01,\n",
       "        6.28370583e+01,  6.54068184e+01,  1.51165133e+02, -1.65803012e+01,\n",
       "       -6.09823986e+01, -3.70251820e+01, -2.01428297e+01,  3.18713008e+01,\n",
       "        2.55204592e+01,  1.11137034e+02,  3.41761990e+01,  4.63308401e+01,\n",
       "       -2.05360762e+01,  3.92146522e+01, -4.47527767e+01,  1.02075459e+02,\n",
       "        8.36918738e+01,  3.45971292e+00, -4.87959753e+01,  5.10998760e+01,\n",
       "        3.31625388e-01, -9.81907193e+01, -2.88906241e+01,  2.29911799e+01,\n",
       "       -2.62142109e+01, -8.90919254e+00,  6.50173693e-01, -7.97775813e+01,\n",
       "       -5.55386683e+01,  7.23433252e+01, -5.05921169e+00,  4.95581562e+01,\n",
       "       -3.94850487e+01,  8.40919604e+00, -1.23533248e+01, -3.44056075e+01,\n",
       "       -5.30112548e+01,  1.76280499e+02,  1.34734719e+02,  4.03729682e+01,\n",
       "        4.58211080e+01, -8.05387628e+01,  1.01048949e+02,  8.76990769e+01,\n",
       "        5.02950899e+01,  1.68025483e+00, -4.59745968e+01,  1.08568952e+01,\n",
       "       -1.08866095e+02, -3.42529357e+01, -7.23795471e+01,  5.12501367e+01,\n",
       "       -2.64591864e+01, -1.72312735e+02,  3.71707664e+01,  2.68514493e+01,\n",
       "       -8.85046824e+00, -6.04019679e+01, -1.02446540e+01,  4.94564811e+01,\n",
       "       -1.22871024e+02, -5.36072280e+01, -8.79661849e+01, -2.01614650e+01,\n",
       "        4.01081269e+01, -5.60652183e+01,  1.13342467e+01,  1.95886033e+01,\n",
       "       -4.83104695e+01,  3.28424920e+01, -7.12229832e+01, -3.69846102e+01,\n",
       "       -7.58326240e+01,  1.49380980e-01,  1.84761583e+01,  2.02313072e+01,\n",
       "       -3.67436195e+01,  8.72095142e+01,  4.04883807e+01,  5.04811363e+01,\n",
       "       -2.10340940e+00, -5.97775446e+01, -2.45700165e+01,  1.28177608e+02,\n",
       "       -3.90816971e+01, -8.12303668e+01,  7.73206391e+01, -4.52895160e+01,\n",
       "        1.40431493e+02, -3.20258019e+01, -4.07343745e+00, -2.84303955e+01,\n",
       "        9.31789333e+01,  4.09910919e+01,  1.14878818e+01, -4.86832615e+00,\n",
       "       -3.67374695e+00,  6.67595045e+01, -5.51558482e+01,  3.63755109e+01,\n",
       "       -3.54057346e+01,  4.67781809e+01, -7.02448547e+01,  2.23244715e+01,\n",
       "        1.71747987e+01, -7.73649227e+01,  3.13681041e+01,  6.77922167e+01,\n",
       "        3.38135414e+01,  5.84121756e+01,  8.64266792e+00, -4.38426131e+01,\n",
       "       -3.35930753e+01, -9.16954559e+01,  3.67730633e+01, -3.84211024e+01,\n",
       "        4.89991573e+01, -1.36607178e+01, -8.60204214e+00, -4.41588357e+01,\n",
       "        9.56862501e+01,  7.17145776e-02, -5.82437023e+01,  3.17226939e+01,\n",
       "       -1.22465835e+02,  5.38247946e+01, -1.03051170e+02,  4.05866481e+01,\n",
       "       -8.03986186e+01,  3.97332428e+00, -2.96685719e+01,  8.00723113e+01,\n",
       "        1.86018710e+02,  1.68909072e+01, -7.12013936e+01, -8.24820761e+01,\n",
       "        2.65094725e+01,  2.31973331e+01,  3.39210142e+01,  5.29297226e+01,\n",
       "       -1.14164727e+02, -2.17275964e+01, -6.14028984e+01,  1.43753117e+01,\n",
       "       -1.66425466e+02,  1.06977996e+02,  1.17122893e+01,  7.04537159e+01,\n",
       "       -4.86048885e+01, -5.17545032e+01, -4.16764808e+00,  7.27056968e-01,\n",
       "       -8.94396751e+01, -3.46639327e+01, -4.62287450e+01, -6.30953229e+01,\n",
       "        5.65053015e+00, -3.51395318e+01,  5.09239695e+01, -4.54211312e+01,\n",
       "        3.27693390e+01,  4.38773600e+00, -1.37139832e+02, -2.98218535e+01,\n",
       "       -3.63391601e+01, -1.25499593e+01,  2.01154016e+01,  2.34562938e+01,\n",
       "        1.15929051e+01, -7.64773934e+01,  1.43825374e+02,  5.24761550e+01,\n",
       "        5.64039751e+01,  4.74650931e+01, -4.39062748e+01,  7.97743082e+01,\n",
       "        3.31193740e+01,  8.29542354e-01,  5.27014869e+01,  4.12075042e+01,\n",
       "        5.89041152e+01, -2.16752075e+00,  1.74685835e+01,  2.56140324e+01,\n",
       "       -1.56396656e+01, -2.48627111e+01,  1.07004592e+02,  7.54580328e+01,\n",
       "        8.11156181e+01, -3.98295890e+01,  7.66205790e+01,  5.75721835e+01,\n",
       "        8.81187728e+01,  1.41182528e+01, -5.56826006e+01, -5.41832345e+01,\n",
       "        6.74109464e+01, -4.52773647e+01,  4.06301854e+01, -6.53264238e+01,\n",
       "        3.22717295e+01, -5.34393040e+01, -3.51053469e+00,  4.11442483e+01,\n",
       "       -6.66826561e+01, -4.31630846e+00,  4.90211497e+01, -8.63015240e+01,\n",
       "       -1.04840772e+02, -7.17391650e+01,  9.58947231e+01,  1.82265398e+01,\n",
       "        3.90440903e+01,  3.90351144e+01,  5.70410827e+01, -4.71086690e+01,\n",
       "        6.10879006e+01,  9.89818395e+01, -1.36031292e+02, -8.06009195e+01,\n",
       "       -8.87807825e+01, -1.95156222e+01,  3.53652496e+01,  8.35573742e+01,\n",
       "        6.40832066e+01, -3.76023012e+01, -2.83993110e+01, -3.34791630e+01,\n",
       "       -5.97423672e+01, -8.36403827e+01, -5.66054669e+01,  1.07831485e+01,\n",
       "       -9.53685355e+01,  3.61606799e+01, -1.19552720e+02,  1.46989518e+01,\n",
       "       -1.41980278e+02,  1.48074111e+02,  1.66245712e+01, -4.82518962e+01,\n",
       "        2.96958496e+01,  1.03212203e+02, -4.70746769e+01, -6.83452203e+01,\n",
       "        1.15413029e+02,  1.26186957e+02, -3.37552387e+01, -3.65413767e+00,\n",
       "        1.22846530e+01, -8.91701262e+01, -3.23732975e+01,  3.36192955e+01,\n",
       "        2.41432022e+01, -3.28867109e+01,  3.74401455e+01, -4.12502076e+01,\n",
       "       -2.85349453e+01, -6.23563152e+01, -1.24165043e+01,  4.50163088e+01,\n",
       "        3.76202775e+01, -1.61405415e+01, -7.74075330e+00,  6.79648914e+01,\n",
       "       -6.94827539e+01,  1.37455509e+02,  6.89063625e+01,  4.44157682e+01,\n",
       "       -7.51465132e+00,  3.03506948e+01, -1.34538370e+02, -1.06794352e+02,\n",
       "       -4.50277702e+01, -2.98374248e+01,  6.32460578e+01, -3.56381851e+01,\n",
       "       -6.19103117e+01,  1.53436449e+02, -6.76628116e+01,  1.88524422e+01,\n",
       "       -8.98158339e+01, -1.11283365e+02, -5.69798335e+01,  3.56860880e+01,\n",
       "       -8.03628268e+01, -1.98764186e+01,  1.21530947e+02,  5.64533625e+01,\n",
       "       -4.29623320e+01,  1.40718280e+02, -1.16347348e+02, -4.43851210e+01,\n",
       "       -5.08205646e+01, -7.83773816e+01, -4.75127863e+00, -9.46141246e+00,\n",
       "        1.09313638e+01, -2.06986659e+01, -2.02596841e+00, -1.63143164e+01,\n",
       "       -3.48190784e+01, -8.05951619e+01,  1.39115386e+02, -3.65761657e+01,\n",
       "        2.42411332e+01,  6.79437724e+01,  4.50912726e+01, -7.43070107e+01,\n",
       "       -7.89006756e+01,  1.55190334e+02, -1.11233448e+02,  3.70407555e+00,\n",
       "        2.08934189e+00, -3.25666940e+01,  2.87341188e+01,  6.35634412e+01,\n",
       "       -2.60624820e+01, -7.20800880e+01,  1.02620459e+02,  2.26031232e+01,\n",
       "        5.27181803e+01,  2.35931102e+00, -8.35695595e+01,  3.76514300e+01,\n",
       "        4.39706963e+00, -7.89461863e+01, -6.56333558e+01, -2.72537777e+01,\n",
       "        9.39354339e+01, -1.27839085e+02,  3.15047293e+01, -2.68243803e+00,\n",
       "       -3.58680600e+01, -9.41973690e+00,  9.09808095e+01, -7.84943625e+01,\n",
       "       -1.04688225e+02, -9.58075709e+00, -1.63377222e+02, -9.89098261e+01,\n",
       "        3.51709974e+01, -2.61711863e+01,  1.74072946e+01,  1.81704822e+01,\n",
       "        1.07670477e+02,  9.25525236e+01,  2.39137985e+00, -4.20657243e+01,\n",
       "        4.73421154e+00, -1.58280447e+02, -3.28309168e+00, -1.66365363e+00,\n",
       "        4.03210650e+01, -1.33317258e+01, -5.65456525e+00, -4.21605330e+01,\n",
       "       -1.24069121e+01, -9.33413785e+01,  7.13923030e-01,  7.35520530e+01,\n",
       "       -3.30989719e+01, -9.16241506e+01,  4.78086992e+01, -7.49610543e+01,\n",
       "       -4.03858449e+01,  5.14541121e+01, -8.08155938e+01, -9.23125194e+01,\n",
       "        3.78273323e+01,  4.41478092e+01, -2.81303851e+01, -1.27963316e+02,\n",
       "       -3.05041217e+00,  1.14046115e+01, -3.26452020e+01, -8.99708644e+01,\n",
       "        6.24470199e+01, -4.34709558e+01,  2.33649033e+01, -1.03046218e+01,\n",
       "       -2.04260188e+01, -1.02810574e+02, -6.02649218e+01, -6.82782143e+01,\n",
       "       -3.53540027e+01, -1.06335448e+02, -3.62958533e+01,  2.46178592e-01,\n",
       "        1.25158252e+02, -1.19284753e+01, -7.09594684e+00,  5.95259417e+01,\n",
       "        1.81249605e+01, -1.90289223e+02,  3.42347825e+01, -3.02179030e+01,\n",
       "       -3.70620127e+01, -1.30257161e+02, -1.10794126e+01, -6.08668870e+01,\n",
       "       -9.55573025e+01,  6.59371339e+01, -1.42872076e+00,  4.00562667e+01,\n",
       "       -1.42413328e+02,  1.26245707e+02,  1.79742584e+02,  1.48321020e+02,\n",
       "       -1.84475703e+01,  9.90183314e+00, -1.18474898e+02, -4.80770866e+01,\n",
       "       -3.28023360e+01, -9.65946186e+00, -9.61134971e+00, -6.01759877e+01,\n",
       "        5.74343955e+01,  3.64133748e+01,  1.37854176e+01,  1.30621881e+01,\n",
       "       -9.89896446e+01, -2.29149724e+00,  4.55436326e+01, -6.54344627e+01,\n",
       "        3.09229437e+01,  5.43988494e+01,  3.37506084e+01,  9.65612596e+01,\n",
       "       -1.01250130e+02, -4.67939946e+00,  1.12945199e+02, -3.74121668e+01,\n",
       "        7.56738932e+01,  8.97859718e+01, -9.87065782e+01,  7.82015444e+00,\n",
       "        2.80542900e+01, -8.79526254e+01,  1.85913420e+01, -4.54960497e+01,\n",
       "        9.61430961e+01, -1.08595574e+02,  1.59943846e+01,  3.81816435e+01,\n",
       "        5.71612367e+01, -1.23389421e+02, -3.69642914e+01, -9.76397614e+01,\n",
       "        8.60801233e+01, -5.90845202e+01,  3.92933465e+01,  1.65091973e+01,\n",
       "       -1.26875400e+02,  7.56860995e+01,  5.08711621e+01, -2.80970864e+01,\n",
       "        8.41789120e+01, -9.42914671e+01, -2.98828959e+01,  1.54721256e+02,\n",
       "        2.35100075e+00,  4.84508654e+00, -8.83779294e+01,  6.56754949e+01,\n",
       "       -2.72082449e+01, -5.81332102e+01,  8.77850342e+00,  6.62545200e+01,\n",
       "        1.10702634e+02, -3.34773376e+01,  9.99924658e+00, -4.42955173e+01,\n",
       "       -5.59370943e+01, -4.49076935e+01,  8.08455656e+01, -5.13204133e+00,\n",
       "        4.83140949e+01,  2.96767194e+00,  6.01116872e+01,  4.75808648e+00,\n",
       "       -3.16553204e+01,  5.74676057e+01, -1.92761299e+01,  4.66135658e+01,\n",
       "        6.02593531e-01,  2.25441185e+00,  1.08545007e+01, -1.27245629e+01,\n",
       "       -3.62108729e+01, -1.00036598e+02,  2.85860492e+00, -6.05179989e+01,\n",
       "        2.80722658e+01, -3.30188747e+01, -6.53737529e+01, -6.31048934e+01,\n",
       "       -4.15624260e+01,  5.35578354e+01,  7.17328518e+01, -6.75831128e+01,\n",
       "        5.16335746e+01,  5.11342529e+01, -4.24559625e+01, -2.55581158e+00,\n",
       "        5.91365911e+01, -7.50085662e+01, -7.70509355e+01,  4.58556297e+00,\n",
       "        6.10852550e+01,  1.34053978e+01, -1.22221654e+01,  5.32811439e+01,\n",
       "        6.24386076e+01,  6.47029044e+01,  1.06852262e+02,  4.27605598e+01,\n",
       "        4.27312080e+01, -7.97879366e+01, -6.27019065e+01,  1.22138101e+01,\n",
       "       -2.32024393e+01,  7.73473154e+01, -6.06039045e+01,  7.67990127e+01,\n",
       "       -1.01899895e+02, -1.24037815e+02, -1.28621651e+02,  2.67809299e+01,\n",
       "       -2.90683823e+01,  2.00750909e+01, -9.25453142e+01, -1.43712859e+01,\n",
       "       -9.47752505e+00,  1.34736295e+01, -1.99532409e+01, -2.18896649e+01,\n",
       "        2.63981458e+01,  7.59363162e+01, -2.20779898e+01,  3.57388611e+01,\n",
       "        1.17793620e+02, -9.79109978e+01,  1.30677845e+02,  1.47162639e+01,\n",
       "       -3.25178637e+01, -3.41736014e+00, -4.87492479e+01, -1.87421222e+01,\n",
       "        1.48087878e+02,  9.61860050e+01, -1.84248123e+01,  1.71269094e+01,\n",
       "       -1.00980295e+01,  4.74588660e+01,  4.96102642e+00,  2.19937436e+01,\n",
       "        5.26382236e+01,  2.12455588e+02,  7.82413361e+00, -8.09165147e+01,\n",
       "        5.97296263e+01,  1.29418260e+02, -4.82967910e+01, -1.67376416e+01,\n",
       "        5.14843052e+01, -4.67432549e+01, -5.86147062e+01,  8.49210194e+01,\n",
       "       -5.06689044e+01,  4.36400248e+01, -1.44802970e+01, -1.36749915e+01,\n",
       "       -1.06552548e+02,  1.02050596e+02, -2.60321216e+00, -1.29489084e+02,\n",
       "       -4.41456648e+00, -1.25143906e+01, -1.23086301e+02,  4.05921996e+00,\n",
       "        4.57171732e+01,  1.80254701e+01, -9.74639453e+01, -3.35460634e+01,\n",
       "        3.70923489e+01, -5.48665430e+01,  3.22152678e+01,  1.48852808e+02,\n",
       "        8.95656972e+01, -1.97857477e+01, -8.97636426e+01, -5.72047027e+01,\n",
       "        1.02280198e+02, -3.65113464e+01, -4.74880073e+01,  4.97058972e+01,\n",
       "        5.57954846e+01, -9.82704244e+01,  3.28924650e+00,  1.51492110e+01,\n",
       "       -2.12594447e+01,  1.39796303e+01, -9.79980272e+00,  3.82818526e+01,\n",
       "       -6.67253421e+01, -4.31171612e+01, -4.50924777e+01, -1.83871048e+01,\n",
       "        1.86207802e+02, -6.59485561e+01,  3.12080937e+01, -1.57337795e-01,\n",
       "        4.09248594e+01,  1.05421495e+01, -3.88236283e+01, -8.00910721e+00,\n",
       "       -5.23967534e+01, -1.83996602e+00, -1.76331292e+00,  2.15244337e+01,\n",
       "       -1.02863652e+02,  6.72488039e+01,  4.67955821e+00,  1.32531798e+02,\n",
       "       -9.63909832e+01,  4.70374816e+01,  5.50222769e+00, -1.08301103e+02,\n",
       "        1.80251620e+01, -3.42953771e+01, -2.87604262e+01,  3.26489735e+01,\n",
       "       -3.51289390e+00,  2.37260860e+01,  1.11622225e+02, -2.35985702e+01,\n",
       "       -1.18013325e+01,  6.09621029e+01, -7.87444869e+01,  4.35818785e-01,\n",
       "        7.57367612e+01, -4.49020821e+00, -2.64175088e+01, -6.14529850e+01,\n",
       "       -1.27554441e+02, -7.73539203e+01,  2.42042288e+01,  1.04328673e+01,\n",
       "        9.49715102e+01,  5.16353415e+00,  5.71950741e+01,  1.01677597e+02,\n",
       "       -3.68901046e+01, -1.80411795e+00, -1.79685626e+01, -3.70083527e+01,\n",
       "       -1.06882142e+02, -1.81996587e+01, -1.09917615e+02, -1.06451119e+02,\n",
       "       -6.41627309e+01, -1.15924428e+01,  4.28663922e+01,  1.32780823e+02,\n",
       "        1.23573687e+02, -1.05388505e+02, -1.04207717e+02, -8.54920461e+00,\n",
       "        9.25392938e+01,  6.52783684e+01,  5.11632509e+01,  6.75438131e+01,\n",
       "        1.92157940e+01, -3.38429074e+01,  9.39011573e+00,  9.75374824e+01,\n",
       "       -8.87673456e+00,  5.17900831e+01, -2.64851237e+01,  8.71218611e+01,\n",
       "       -3.46613310e+01, -9.81466252e+01, -5.46647222e+01, -8.38275443e+01,\n",
       "        1.10553049e+02,  7.69365325e+01, -6.87438747e+01, -3.88237836e+01,\n",
       "        1.07187183e+02,  8.79558923e+00, -1.92675652e+01, -4.90101983e+01,\n",
       "       -4.24526025e+00,  2.12550800e+01, -1.29754713e+01, -2.15455855e+02,\n",
       "       -4.65884663e+01, -5.05095755e+01, -4.68784256e+01,  1.31302502e+01,\n",
       "       -1.15674158e+02,  7.43852043e+01,  1.03244275e+02,  1.04274576e+02,\n",
       "       -9.04670420e+01,  6.92027000e+01,  6.59887988e+00, -9.50791098e+01,\n",
       "       -2.51698755e+01,  5.28012103e+01,  8.48961834e+01,  8.14922282e+01,\n",
       "        1.55786942e+01,  1.05606884e+02,  1.61692829e+02,  1.83142852e+01,\n",
       "        4.92218708e+00, -9.55879407e+01,  4.69557872e+00,  1.11895011e+02,\n",
       "        9.72437365e+01,  2.44631478e+01,  2.47073475e+01,  4.30233318e+01,\n",
       "        1.56474744e+00,  2.17558650e+01, -3.84616585e+00, -1.55820129e+01,\n",
       "       -5.45908303e+01, -4.41507727e+01,  2.44089534e+01,  1.62355309e+01,\n",
       "        8.97969529e+01,  3.51744856e+01,  1.07581349e+02, -3.16859427e+01,\n",
       "        6.11034062e+00,  2.39965555e+01,  2.46433063e+01, -3.37185115e+01,\n",
       "       -4.46988826e+01,  1.34165861e+02,  1.59551293e+01,  5.11347423e+01,\n",
       "       -1.19934843e+01,  4.52465290e+01,  8.56838256e+01, -5.73664238e+01,\n",
       "       -4.69918569e+01,  2.79484200e+01,  9.21702670e+01, -5.01559069e+01,\n",
       "       -3.47367905e+01,  6.52238236e+01,  1.20138588e+02,  4.18263251e+01,\n",
       "       -2.52735859e+01, -5.12165953e+01, -6.09222746e+01,  5.61578170e+01,\n",
       "        3.03504984e+00, -3.07664541e+01,  7.75565515e+01, -2.84133823e+01,\n",
       "        1.70548466e+01,  3.53819264e+01,  8.85544326e+01, -5.90001616e+01,\n",
       "       -5.09238959e+01,  5.98382792e+01, -1.41264946e+01, -6.52395455e+01,\n",
       "        3.77741435e+01,  3.38234515e-01,  4.32237095e+01, -6.29014284e+01,\n",
       "       -1.24469319e+02, -4.03751957e+01, -9.27106492e-01,  6.84166856e+01,\n",
       "       -2.80330014e+01, -7.42954418e+01,  1.06858647e+02,  5.60545875e+01,\n",
       "        9.83284713e+00,  1.22317863e+02,  1.66425209e+01,  9.40699303e+01,\n",
       "       -1.89229967e+01,  2.16760086e+01, -8.40329352e+01,  9.78845686e+01,\n",
       "       -4.52876106e+01,  7.20130752e+00, -3.24999961e+01, -2.41333199e+00,\n",
       "        6.26024461e+01, -9.23257765e+01,  8.16432787e+01, -2.22982599e+00,\n",
       "       -1.26923973e+01, -1.09357710e+02,  8.54910837e+01,  8.16375610e+01,\n",
       "       -4.74705556e+01,  2.55335037e+01, -3.89364578e+01,  3.66256248e+01,\n",
       "        1.44362635e+00, -7.10513643e+01,  1.13250131e+02, -1.20186910e+01,\n",
       "        1.55910655e+02,  9.22075681e+00, -4.15589904e+01, -1.40953839e+02,\n",
       "        2.78060084e+01,  1.38824014e+02, -1.89158575e+01, -5.01020763e+01,\n",
       "       -3.95716804e+00,  1.08036482e+02,  1.79976517e+01, -2.00626972e+01,\n",
       "        1.19263939e+02, -8.64440049e+00,  8.88591343e+01,  3.10455962e+01,\n",
       "        2.15333012e+01, -4.68227470e+01, -5.55296267e+01,  5.32649722e+00,\n",
       "       -1.87205011e+01, -8.14658369e+01, -6.23721426e+01,  1.33604644e+02,\n",
       "       -8.84830227e+00,  1.38592403e+01, -6.19877997e+00, -3.57400362e+01,\n",
       "       -6.50991270e+01, -6.27006717e+01, -5.20422277e+01,  4.09523082e+01,\n",
       "        8.35478738e+01,  3.83597245e+01,  4.93906240e+01,  5.29747473e+01,\n",
       "        2.68325225e+01, -3.21162618e+01, -1.35236071e+02, -1.29848365e+01,\n",
       "       -3.52542167e+01, -2.62868798e+00,  4.59401897e+01, -3.53500914e+01,\n",
       "       -5.97408059e+01,  3.37188145e+01, -8.16153067e+01, -4.67156090e+01,\n",
       "       -3.35515164e+01, -2.43491323e+01, -1.45481031e+02, -7.57947845e+01,\n",
       "        7.15211056e+00,  2.73443751e+01, -6.54646738e+01,  4.41065965e+01,\n",
       "        7.30837818e+01, -9.94580157e+01, -3.71407442e+01, -1.31243463e+01,\n",
       "        2.90448053e+00,  6.50884735e+01, -9.16442686e+01,  1.95096838e+01,\n",
       "        4.20533760e+01, -4.73035209e+01, -5.23532068e+01,  1.61342869e+01,\n",
       "       -2.06071680e+01, -2.12662908e+01,  9.76753729e+00, -7.58889000e+01,\n",
       "        1.32013762e+02,  3.70054187e+01,  3.51190624e+01, -1.36578362e+02,\n",
       "       -5.03383492e+01, -1.25631186e+01, -6.37260062e+01,  4.73534524e+01,\n",
       "       -9.52109589e+00, -3.31740815e+01,  8.21576032e+01,  1.30231277e+02,\n",
       "        4.72200471e+01, -4.19369121e+01, -3.99350080e+01, -8.40361263e+01,\n",
       "       -6.46871059e+00,  4.33030862e+01,  5.68851440e+01,  1.73331314e+01])"
      ]
     },
     "execution_count": 5,
     "metadata": {},
     "output_type": "execute_result"
    }
   ],
   "source": [
    "y"
   ]
  },
  {
   "cell_type": "code",
   "execution_count": 6,
   "metadata": {
    "colab": {
     "base_uri": "https://localhost:8080/"
    },
    "executionInfo": {
     "elapsed": 29,
     "status": "ok",
     "timestamp": 1693385887237,
     "user": {
      "displayName": "Vipil Khapre",
      "userId": "11657927420291305997"
     },
     "user_tz": -330
    },
    "id": "nnB9u96lqIq0",
    "outputId": "2011ff75-1399-449e-99f6-ea21554a1b48"
   },
   "outputs": [
    {
     "data": {
      "text/plain": [
       "0      1.835208\n",
       "1     -1.019391\n",
       "2     -1.169275\n",
       "3     -0.640764\n",
       "4     -0.257219\n",
       "         ...   \n",
       "995   -1.399102\n",
       "996   -0.117197\n",
       "997    0.799431\n",
       "998    0.753964\n",
       "999    0.382198\n",
       "Name: 0, Length: 1000, dtype: float64"
      ]
     },
     "execution_count": 6,
     "metadata": {},
     "output_type": "execute_result"
    }
   ],
   "source": [
    "pd.DataFrame(X)[0]"
   ]
  },
  {
   "cell_type": "code",
   "execution_count": 7,
   "metadata": {
    "colab": {
     "base_uri": "https://localhost:8080/",
     "height": 467
    },
    "executionInfo": {
     "elapsed": 2630,
     "status": "ok",
     "timestamp": 1693385897244,
     "user": {
      "displayName": "Vipil Khapre",
      "userId": "11657927420291305997"
     },
     "user_tz": -330
    },
    "id": "Pe--0H0fqIq1",
    "outputId": "403a2820-92a9-4724-e1a1-645a81f85337"
   },
   "outputs": [
    {
     "data": {
      "text/plain": [
       "<AxesSubplot: xlabel='0', ylabel='1'>"
      ]
     },
     "execution_count": 7,
     "metadata": {},
     "output_type": "execute_result"
    },
    {
     "data": {
      "image/png": "[encoded data removed]",
      "text/plain": [
       "<Figure size 640x480 with 1 Axes>"
      ]
     },
     "metadata": {},
     "output_type": "display_data"
    }
   ],
   "source": [
    "sns.scatterplot(x=pd.DataFrame(X)[0],y=pd.DataFrame(X)[1],hue=y)"
   ]
  },
  {
   "cell_type": "code",
   "execution_count": 8,
   "metadata": {
    "executionInfo": {
     "elapsed": 478,
     "status": "ok",
     "timestamp": 1693385904728,
     "user": {
      "displayName": "Vipil Khapre",
      "userId": "11657927420291305997"
     },
     "user_tz": -330
    },
    "id": "jo_bwQ5_qIq1"
   },
   "outputs": [],
   "source": [
    "from sklearn.model_selection import train_test_split\n",
    "X_train,X_test,y_train,y_test=train_test_split(X,y,test_size=0.25,random_state=10)"
   ]
  },
  {
   "cell_type": "code",
   "execution_count": 9,
   "metadata": {
    "executionInfo": {
     "elapsed": 10,
     "status": "ok",
     "timestamp": 1693385904728,
     "user": {
      "displayName": "Vipil Khapre",
      "userId": "11657927420291305997"
     },
     "user_tz": -330
    },
    "id": "nITYOV9oqIq2"
   },
   "outputs": [],
   "source": [
    "from sklearn.svm import SVR"
   ]
  },
  {
   "cell_type": "code",
   "execution_count": 10,
   "metadata": {
    "executionInfo": {
     "elapsed": 659,
     "status": "ok",
     "timestamp": 1693386091301,
     "user": {
      "displayName": "Vipil Khapre",
      "userId": "11657927420291305997"
     },
     "user_tz": -330
    },
    "id": "1NzHguuFqIq3"
   },
   "outputs": [],
   "source": [
    "svr=SVR(kernel='linear')"
   ]
  },
  {
   "cell_type": "code",
   "execution_count": 11,
   "metadata": {
    "colab": {
     "base_uri": "https://localhost:8080/",
     "height": 75
    },
    "executionInfo": {
     "elapsed": 22,
     "status": "ok",
     "timestamp": 1693386091770,
     "user": {
      "displayName": "Vipil Khapre",
      "userId": "11657927420291305997"
     },
     "user_tz": -330
    },
    "id": "q4yViOLNqIq4",
    "outputId": "d6288821-ce6a-4fb8-b57b-283ac61493eb"
   },
   "outputs": [
    {
     "data": {
      "text/html": [
       "<style>#sk-container-id-1 {color: black;background-color: white;}#sk-container-id-1 pre{padding: 0;}#sk-container-id-1 div.sk-toggleable {background-color: white;}#sk-container-id-1 label.sk-toggleable__label {cursor: pointer;display: block;width: 100%;margin-bottom: 0;padding: 0.3em;box-sizing: border-box;text-align: center;}#sk-container-id-1 label.sk-toggleable__label-arrow:before {content: \"▸\";float: left;margin-right: 0.25em;color: #696969;}#sk-container-id-1 label.sk-toggleable__label-arrow:hover:before {color: black;}#sk-container-id-1 div.sk-estimator:hover label.sk-toggleable__label-arrow:before {color: black;}#sk-container-id-1 div.sk-toggleable__content {max-height: 0;max-width: 0;overflow: hidden;text-align: left;background-color: #f0f8ff;}#sk-container-id-1 div.sk-toggleable__content pre {margin: 0.2em;color: black;border-radius: 0.25em;background-color: #f0f8ff;}#sk-container-id-1 input.sk-toggleable__control:checked~div.sk-toggleable__content {max-height: 200px;max-width: 100%;overflow: auto;}#sk-container-id-1 input.sk-toggleable__control:checked~label.sk-toggleable__label-arrow:before {content: \"▾\";}#sk-container-id-1 div.sk-estimator input.sk-toggleable__control:checked~label.sk-toggleable__label {background-color: #d4ebff;}#sk-container-id-1 div.sk-label input.sk-toggleable__control:checked~label.sk-toggleable__label {background-color: #d4ebff;}#sk-container-id-1 input.sk-hidden--visually {border: 0;clip: rect(1px 1px 1px 1px);clip: rect(1px, 1px, 1px, 1px);height: 1px;margin: -1px;overflow: hidden;padding: 0;position: absolute;width: 1px;}#sk-container-id-1 div.sk-estimator {font-family: monospace;background-color: #f0f8ff;border: 1px dotted black;border-radius: 0.25em;box-sizing: border-box;margin-bottom: 0.5em;}#sk-container-id-1 div.sk-estimator:hover {background-color: #d4ebff;}#sk-container-id-1 div.sk-parallel-item::after {content: \"\";width: 100%;border-bottom: 1px solid gray;flex-grow: 1;}#sk-container-id-1 div.sk-label:hover label.sk-toggleable__label {background-color: #d4ebff;}#sk-container-id-1 div.sk-serial::before {content: \"\";position: absolute;border-left: 1px solid gray;box-sizing: border-box;top: 0;bottom: 0;left: 50%;z-index: 0;}#sk-container-id-1 div.sk-serial {display: flex;flex-direction: column;align-items: center;background-color: white;padding-right: 0.2em;padding-left: 0.2em;position: relative;}#sk-container-id-1 div.sk-item {position: relative;z-index: 1;}#sk-container-id-1 div.sk-parallel {display: flex;align-items: stretch;justify-content: center;background-color: white;position: relative;}#sk-container-id-1 div.sk-item::before, #sk-container-id-1 div.sk-parallel-item::before {content: \"\";position: absolute;border-left: 1px solid gray;box-sizing: border-box;top: 0;bottom: 0;left: 50%;z-index: -1;}#sk-container-id-1 div.sk-parallel-item {display: flex;flex-direction: column;z-index: 1;position: relative;background-color: white;}#sk-container-id-1 div.sk-parallel-item:first-child::after {align-self: flex-end;width: 50%;}#sk-container-id-1 div.sk-parallel-item:last-child::after {align-self: flex-start;width: 50%;}#sk-container-id-1 div.sk-parallel-item:only-child::after {width: 0;}#sk-container-id-1 div.sk-dashed-wrapped {border: 1px dashed gray;margin: 0 0.4em 0.5em 0.4em;box-sizing: border-box;padding-bottom: 0.4em;background-color: white;}#sk-container-id-1 div.sk-label label {font-family: monospace;font-weight: bold;display: inline-block;line-height: 1.2em;}#sk-container-id-1 div.sk-label-container {text-align: center;}#sk-container-id-1 div.sk-container {/* jupyter's `normalize.less` sets `[hidden] { display: none; }` but bootstrap.min.css set `[hidden] { display: none !important; }` so we also need the `!important` here to be able to override the default hidden behavior on the sphinx rendered scikit-learn.org. See: https://github.com/scikit-learn/scikit-learn/issues/21755 */display: inline-block !important;position: relative;}#sk-container-id-1 div.sk-text-repr-fallback {display: none;}</style><div id=\"sk-container-id-1\" class=\"sk-top-container\"><div class=\"sk-text-repr-fallback\"><pre>SVR(kernel=&#x27;linear&#x27;)</pre><b>In a Jupyter environment, please rerun this cell to show the HTML representation or trust the notebook. <br />On GitHub, the HTML representation is unable to render, please try loading this page with nbviewer.org.</b></div><div class=\"sk-container\" hidden><div class=\"sk-item\"><div class=\"sk-estimator sk-toggleable\"><input class=\"sk-toggleable__control sk-hidden--visually\" id=\"sk-estimator-id-1\" type=\"checkbox\" checked><label for=\"sk-estimator-id-1\" class=\"sk-toggleable__label sk-toggleable__label-arrow\">SVR</label><div class=\"sk-toggleable__content\"><pre>SVR(kernel=&#x27;linear&#x27;)</pre></div></div></div></div></div>"
      ],
      "text/plain": [
       "SVR(kernel='linear')"
      ]
     },
     "execution_count": 11,
     "metadata": {},
     "output_type": "execute_result"
    }
   ],
   "source": [
    "svr.fit(X_train,y_train)"
   ]
  },
  {
   "cell_type": "code",
   "execution_count": 12,
   "metadata": {
    "colab": {
     "base_uri": "https://localhost:8080/"
    },
    "executionInfo": {
     "elapsed": 12,
     "status": "ok",
     "timestamp": 1693386093295,
     "user": {
      "displayName": "Vipil Khapre",
      "userId": "11657927420291305997"
     },
     "user_tz": -330
    },
    "id": "UehOgHVBqIq5",
    "outputId": "04d728c6-0dcb-4073-ee7f-212680271af2"
   },
   "outputs": [
    {
     "data": {
      "text/plain": [
       "array([[64.69287761,  9.41888529]])"
      ]
     },
     "execution_count": 12,
     "metadata": {},
     "output_type": "execute_result"
    }
   ],
   "source": [
    "svr.coef_"
   ]
  },
  {
   "cell_type": "code",
   "execution_count": 13,
   "metadata": {
    "executionInfo": {
     "elapsed": 8,
     "status": "ok",
     "timestamp": 1693386094905,
     "user": {
      "displayName": "Vipil Khapre",
      "userId": "11657927420291305997"
     },
     "user_tz": -330
    },
    "id": "_UnW7YELqIq5"
   },
   "outputs": [],
   "source": [
    "## Prediction\n",
    "y_pred=svr.predict(X_test)"
   ]
  },
  {
   "cell_type": "code",
   "execution_count": 14,
   "metadata": {
    "colab": {
     "base_uri": "https://localhost:8080/"
    },
    "executionInfo": {
     "elapsed": 14,
     "status": "ok",
     "timestamp": 1693386097949,
     "user": {
      "displayName": "Vipil Khapre",
      "userId": "11657927420291305997"
     },
     "user_tz": -330
    },
    "id": "CW0r-IbsqIq5",
    "outputId": "96c32424-c5bf-414a-a365-36f0210f2ed7"
   },
   "outputs": [
    {
     "data": {
      "text/plain": [
       "array([  48.4446936 ,  -34.03586683,   81.3478704 ,   93.34180689,\n",
       "        136.99424133,  -44.5847135 ,   -7.32157613,  -68.50869738,\n",
       "          4.07175768,  -31.00179068,  -19.81538031,   35.13264917,\n",
       "         -9.05658601,   27.49757864,   15.97584576,   -0.81036364,\n",
       "         24.64051265,    5.77900602,   -6.09145122,  -68.50847105,\n",
       "         32.23171625,   -4.944279  ,   82.13901799,  -53.17150935,\n",
       "        -12.67560021,  -27.51744694,   38.93962404,   84.63654661,\n",
       "         22.07383231,    5.00607612,  -17.4383327 ,   46.28680332,\n",
       "         33.12712201,  109.09928433,  -83.68729764,   38.13094671,\n",
       "         14.14984495,    8.93761617,  -78.09006038,   86.55241935,\n",
       "        -33.12434154,  111.20949928,  -11.67314189,  -36.58602859,\n",
       "       -157.00004283,  -33.18923328,  -22.18868328,   93.59529055,\n",
       "         39.0672689 ,   31.238087  ,   64.22305084,  -47.10938083,\n",
       "        -74.69505895,   -1.28545157,   56.51706038,  -35.58141022,\n",
       "         -4.46517959,  -29.29240111,   60.58025638,   31.3036337 ,\n",
       "         47.49536481,   40.27749214,  -10.17747007,  -33.05159923,\n",
       "         81.09299292,  -64.67365116,    1.46940323, -127.63197094,\n",
       "         57.54688449,   15.80630255,  -45.76074902,   21.93878778,\n",
       "        -39.70308717,   62.99387526,   21.93316662,  -87.03573889,\n",
       "        -11.58815831,   -4.18822727,   41.58847706,    9.23762234,\n",
       "         -6.07424492,   76.28106656,    9.16512686,  100.50443445,\n",
       "        -85.2434392 ,  -13.99475572,  -18.73896983,  -16.98194287,\n",
       "        -67.43863183,   22.25568943,   90.53786293,   50.208479  ,\n",
       "        -24.89798429,  125.21697051,   20.57683766,  -80.61365877,\n",
       "        -67.44732676,   36.88524203, -106.001023  ,  -37.55134738,\n",
       "        -40.48202024,   -0.87612342,   13.90409544,   82.03859677,\n",
       "        -29.67694839,  -59.90728619,  -71.84694182,  -44.0989452 ,\n",
       "        101.79760169, -165.93990293,   13.05615559,   33.52846251,\n",
       "         90.91054096,  -13.2673474 ,    2.62535111,  -59.16696893,\n",
       "        -41.7661101 ,   55.52763266,   24.03365264,  -85.9818509 ,\n",
       "          4.97874536,   14.58775932,  139.30661665,  -54.04803521,\n",
       "        130.42915363,  -39.33241389,   60.7011752 ,  181.16892661,\n",
       "         31.15346223, -106.74922047,   36.92267362,   24.34241259,\n",
       "        -83.42720419, -108.82210042,   49.25191052,  -52.77380974,\n",
       "         91.46907436,   -1.13172197,  105.23011039,  -72.72687867,\n",
       "        -71.56564185,   -8.39076172,   88.65819701,  -36.80546609,\n",
       "         48.69917598,   43.68877676,   41.50361106,   26.21513013,\n",
       "        -57.11702728,  -18.73617398, -131.06897908,  -47.90646636,\n",
       "        -51.24124231,  -34.32104181,  -65.48083859,   26.10616204,\n",
       "         -8.91899114,   32.6121951 ,  -46.17565231,   83.87379873,\n",
       "        -13.12832989,  -59.82712016,  -38.59439235,    0.62519103,\n",
       "        -41.7322587 ,    8.98374867,   32.7780581 ,   19.08061622,\n",
       "        -30.33161959,  -62.09358135,  -22.42457206,   43.73865718,\n",
       "        -46.30082221,  -56.72816006,  -61.51742423,  -12.471559  ,\n",
       "        -62.00524536,   10.841289  ,  -47.82362766,   60.12182693,\n",
       "        -21.85689844,   -2.96221549,  -75.56447757,   43.08635507,\n",
       "        -33.00563222, -102.75041714,   80.34888759,  -64.95985962,\n",
       "       -126.95988419,  -64.36081361,    1.54257369,   55.21162801,\n",
       "        -59.56648338,  -36.2734282 , -162.15459492,   52.82182617,\n",
       "         -6.413925  ,  135.8536156 ,   -8.67071361,   34.3767739 ,\n",
       "         90.21537064,  -53.81984162,    8.05651773,   -2.6647689 ,\n",
       "        -35.6807827 ,  -48.2828432 ,   25.61465683,  -33.50406447,\n",
       "        -33.42264013,  -42.83311514,   62.14914187,   47.37578601,\n",
       "        -35.95300222,  -66.80922758,  100.74557763,  -99.34054465,\n",
       "         -9.6371962 ,   65.36243745,   49.6016151 ,   49.60309531,\n",
       "          9.84882043,   81.93463138,  -44.36439412, -110.79449543,\n",
       "         45.26392868,  -63.47648993,   27.81876519,   14.85292553,\n",
       "          9.1235436 ,    9.47051975,   92.42114726,   76.07293314,\n",
       "        -54.50788174,   46.3220262 ,    3.47843296,   25.21484746,\n",
       "         67.80681984,   23.34978004,    0.53993222,  153.84164549,\n",
       "        -44.36596355,  -65.51409526, -101.85338932,   37.94090546,\n",
       "          8.45103239,  -91.40398579,    3.23780025,  -35.98316939,\n",
       "         -8.63930023,   47.56778067])"
      ]
     },
     "execution_count": 14,
     "metadata": {},
     "output_type": "execute_result"
    }
   ],
   "source": [
    "y_pred"
   ]
  },
  {
   "cell_type": "code",
   "execution_count": 15,
   "metadata": {
    "executionInfo": {
     "elapsed": 3,
     "status": "ok",
     "timestamp": 1693386099834,
     "user": {
      "displayName": "Vipil Khapre",
      "userId": "11657927420291305997"
     },
     "user_tz": -330
    },
    "id": "_V8L5uhcqIq6"
   },
   "outputs": [],
   "source": [
    "from sklearn.metrics import r2_score"
   ]
  },
  {
   "cell_type": "code",
   "execution_count": 16,
   "metadata": {
    "colab": {
     "base_uri": "https://localhost:8080/"
    },
    "executionInfo": {
     "elapsed": 8,
     "status": "ok",
     "timestamp": 1693386103140,
     "user": {
      "displayName": "Vipil Khapre",
      "userId": "11657927420291305997"
     },
     "user_tz": -330
    },
    "id": "j7244_g_qIq6",
    "outputId": "8129b74e-bc9b-4d09-8567-1239830639d4"
   },
   "outputs": [
    {
     "name": "stdout",
     "output_type": "stream",
     "text": [
      "0.9974810416335287\n"
     ]
    }
   ],
   "source": [
    "print(r2_score(y_test,y_pred))"
   ]
  },
  {
   "cell_type": "markdown",
   "metadata": {
    "id": "PrpM_v3SqIq6"
   },
   "source": [
    "## Hyperparametere Tuning With SVR"
   ]
  },
  {
   "cell_type": "code",
   "execution_count": 17,
   "metadata": {
    "executionInfo": {
     "elapsed": 4,
     "status": "ok",
     "timestamp": 1693386108780,
     "user": {
      "displayName": "Vipil Khapre",
      "userId": "11657927420291305997"
     },
     "user_tz": -330
    },
    "id": "x_e1cKqFqIq7"
   },
   "outputs": [],
   "source": [
    "from sklearn.model_selection import GridSearchCV\n",
    "\n",
    "# defining parameter range\n",
    "param_grid = {'C': [0.1, 1, 10, 100, 1000],\n",
    "              'gamma': [1, 0.1, 0.01, 0.001, 0.0001],\n",
    "              'kernel':['linear'],\n",
    "              'epsilon':[0.1,0.2,0.3]\n",
    "              }"
   ]
  },
  {
   "cell_type": "code",
   "execution_count": 18,
   "metadata": {
    "executionInfo": {
     "elapsed": 5,
     "status": "ok",
     "timestamp": 1693386111007,
     "user": {
      "displayName": "Vipil Khapre",
      "userId": "11657927420291305997"
     },
     "user_tz": -330
    },
    "id": "2Odkk2VvqIq7"
   },
   "outputs": [],
   "source": [
    "grid=GridSearchCV(SVR(),param_grid=param_grid,refit=True,cv=5,verbose=3)"
   ]
  },
  {
   "cell_type": "code",
   "execution_count": 19,
   "metadata": {
    "colab": {
     "base_uri": "https://localhost:8080/",
     "height": 1000
    },
    "executionInfo": {
     "elapsed": 75617,
     "status": "ok",
     "timestamp": 1693386190350,
     "user": {
      "displayName": "Vipil Khapre",
      "userId": "11657927420291305997"
     },
     "user_tz": -330
    },
    "id": "CxYbcyZXqIq8",
    "outputId": "712e2c68-8953-41a0-c8f1-203a2cc64336"
   },
   "outputs": [
    {
     "name": "stdout",
     "output_type": "stream",
     "text": [
      "Fitting 5 folds for each of 75 candidates, totalling 375 fits\n",
      "[CV 1/5] END C=0.1, epsilon=0.1, gamma=1, kernel=linear;, score=0.944 total time=   0.0s\n",
      "[CV 2/5] END C=0.1, epsilon=0.1, gamma=1, kernel=linear;, score=0.927 total time=   0.0s\n",
      "[CV 3/5] END C=0.1, epsilon=0.1, gamma=1, kernel=linear;, score=0.942 total time=   0.0s\n",
      "[CV 4/5] END C=0.1, epsilon=0.1, gamma=1, kernel=linear;, score=0.923 total time=   0.0s\n",
      "[CV 5/5] END C=0.1, epsilon=0.1, gamma=1, kernel=linear;, score=0.929 total time=   0.0s\n",
      "[CV 1/5] END C=0.1, epsilon=0.1, gamma=0.1, kernel=linear;, score=0.944 total time=   0.0s\n",
      "[CV 2/5] END C=0.1, epsilon=0.1, gamma=0.1, kernel=linear;, score=0.927 total time=   0.0s\n",
      "[CV 3/5] END C=0.1, epsilon=0.1, gamma=0.1, kernel=linear;, score=0.942 total time=   0.0s\n",
      "[CV 4/5] END C=0.1, epsilon=0.1, gamma=0.1, kernel=linear;, score=0.923 total time=   0.0s\n",
      "[CV 5/5] END C=0.1, epsilon=0.1, gamma=0.1, kernel=linear;, score=0.929 total time=   0.0s\n",
      "[CV 1/5] END C=0.1, epsilon=0.1, gamma=0.01, kernel=linear;, score=0.944 total time=   0.0s\n",
      "[CV 2/5] END C=0.1, epsilon=0.1, gamma=0.01, kernel=linear;, score=0.927 total time=   0.0s\n",
      "[CV 3/5] END C=0.1, epsilon=0.1, gamma=0.01, kernel=linear;, score=0.942 total time=   0.0s\n",
      "[CV 4/5] END C=0.1, epsilon=0.1, gamma=0.01, kernel=linear;, score=0.923 total time=   0.0s\n",
      "[CV 5/5] END C=0.1, epsilon=0.1, gamma=0.01, kernel=linear;, score=0.929 total time=   0.0s\n",
      "[CV 1/5] END C=0.1, epsilon=0.1, gamma=0.001, kernel=linear;, score=0.944 total time=   0.0s\n",
      "[CV 2/5] END C=0.1, epsilon=0.1, gamma=0.001, kernel=linear;, score=0.927 total time=   0.0s\n",
      "[CV 3/5] END C=0.1, epsilon=0.1, gamma=0.001, kernel=linear;, score=0.942 total time=   0.0s\n",
      "[CV 4/5] END C=0.1, epsilon=0.1, gamma=0.001, kernel=linear;, score=0.923 total time=   0.0s\n",
      "[CV 5/5] END C=0.1, epsilon=0.1, gamma=0.001, kernel=linear;, score=0.929 total time=   0.0s\n",
      "[CV 1/5] END C=0.1, epsilon=0.1, gamma=0.0001, kernel=linear;, score=0.944 total time=   0.0s\n",
      "[CV 2/5] END C=0.1, epsilon=0.1, gamma=0.0001, kernel=linear;, score=0.927 total time=   0.0s\n",
      "[CV 3/5] END C=0.1, epsilon=0.1, gamma=0.0001, kernel=linear;, score=0.942 total time=   0.0s\n",
      "[CV 4/5] END C=0.1, epsilon=0.1, gamma=0.0001, kernel=linear;, score=0.923 total time=   0.0s\n",
      "[CV 5/5] END C=0.1, epsilon=0.1, gamma=0.0001, kernel=linear;, score=0.929 total time=   0.0s\n",
      "[CV 1/5] END C=0.1, epsilon=0.2, gamma=1, kernel=linear;, score=0.943 total time=   0.0s\n",
      "[CV 2/5] END C=0.1, epsilon=0.2, gamma=1, kernel=linear;, score=0.927 total time=   0.0s\n",
      "[CV 3/5] END C=0.1, epsilon=0.2, gamma=1, kernel=linear;, score=0.942 total time=   0.0s\n",
      "[CV 4/5] END C=0.1, epsilon=0.2, gamma=1, kernel=linear;, score=0.923 total time=   0.0s\n",
      "[CV 5/5] END C=0.1, epsilon=0.2, gamma=1, kernel=linear;, score=0.929 total time=   0.0s\n",
      "[CV 1/5] END C=0.1, epsilon=0.2, gamma=0.1, kernel=linear;, score=0.943 total time=   0.0s\n",
      "[CV 2/5] END C=0.1, epsilon=0.2, gamma=0.1, kernel=linear;, score=0.927 total time=   0.0s\n",
      "[CV 3/5] END C=0.1, epsilon=0.2, gamma=0.1, kernel=linear;, score=0.942 total time=   0.0s\n",
      "[CV 4/5] END C=0.1, epsilon=0.2, gamma=0.1, kernel=linear;, score=0.923 total time=   0.0s\n",
      "[CV 5/5] END C=0.1, epsilon=0.2, gamma=0.1, kernel=linear;, score=0.929 total time=   0.0s\n",
      "[CV 1/5] END C=0.1, epsilon=0.2, gamma=0.01, kernel=linear;, score=0.943 total time=   0.0s\n",
      "[CV 2/5] END C=0.1, epsilon=0.2, gamma=0.01, kernel=linear;, score=0.927 total time=   0.0s\n",
      "[CV 3/5] END C=0.1, epsilon=0.2, gamma=0.01, kernel=linear;, score=0.942 total time=   0.0s\n",
      "[CV 4/5] END C=0.1, epsilon=0.2, gamma=0.01, kernel=linear;, score=0.923 total time=   0.0s\n",
      "[CV 5/5] END C=0.1, epsilon=0.2, gamma=0.01, kernel=linear;, score=0.929 total time=   0.0s\n",
      "[CV 1/5] END C=0.1, epsilon=0.2, gamma=0.001, kernel=linear;, score=0.943 total time=   0.0s\n",
      "[CV 2/5] END C=0.1, epsilon=0.2, gamma=0.001, kernel=linear;, score=0.927 total time=   0.0s\n",
      "[CV 3/5] END C=0.1, epsilon=0.2, gamma=0.001, kernel=linear;, score=0.942 total time=   0.0s\n",
      "[CV 4/5] END C=0.1, epsilon=0.2, gamma=0.001, kernel=linear;, score=0.923 total time=   0.0s\n",
      "[CV 5/5] END C=0.1, epsilon=0.2, gamma=0.001, kernel=linear;, score=0.929 total time=   0.0s\n",
      "[CV 1/5] END C=0.1, epsilon=0.2, gamma=0.0001, kernel=linear;, score=0.943 total time=   0.0s\n",
      "[CV 2/5] END C=0.1, epsilon=0.2, gamma=0.0001, kernel=linear;, score=0.927 total time=   0.0s\n",
      "[CV 3/5] END C=0.1, epsilon=0.2, gamma=0.0001, kernel=linear;, score=0.942 total time=   0.0s\n",
      "[CV 4/5] END C=0.1, epsilon=0.2, gamma=0.0001, kernel=linear;, score=0.923 total time=   0.0s\n",
      "[CV 5/5] END C=0.1, epsilon=0.2, gamma=0.0001, kernel=linear;, score=0.929 total time=   0.0s\n",
      "[CV 1/5] END C=0.1, epsilon=0.3, gamma=1, kernel=linear;, score=0.944 total time=   0.0s\n",
      "[CV 2/5] END C=0.1, epsilon=0.3, gamma=1, kernel=linear;, score=0.927 total time=   0.0s\n",
      "[CV 3/5] END C=0.1, epsilon=0.3, gamma=1, kernel=linear;, score=0.942 total time=   0.0s\n",
      "[CV 4/5] END C=0.1, epsilon=0.3, gamma=1, kernel=linear;, score=0.923 total time=   0.0s\n",
      "[CV 5/5] END C=0.1, epsilon=0.3, gamma=1, kernel=linear;, score=0.929 total time=   0.0s\n",
      "[CV 1/5] END C=0.1, epsilon=0.3, gamma=0.1, kernel=linear;, score=0.944 total time=   0.0s\n",
      "[CV 2/5] END C=0.1, epsilon=0.3, gamma=0.1, kernel=linear;, score=0.927 total time=   0.0s\n",
      "[CV 3/5] END C=0.1, epsilon=0.3, gamma=0.1, kernel=linear;, score=0.942 total time=   0.0s\n",
      "[CV 4/5] END C=0.1, epsilon=0.3, gamma=0.1, kernel=linear;, score=0.923 total time=   0.0s\n",
      "[CV 5/5] END C=0.1, epsilon=0.3, gamma=0.1, kernel=linear;, score=0.929 total time=   0.0s\n",
      "[CV 1/5] END C=0.1, epsilon=0.3, gamma=0.01, kernel=linear;, score=0.944 total time=   0.0s\n",
      "[CV 2/5] END C=0.1, epsilon=0.3, gamma=0.01, kernel=linear;, score=0.927 total time=   0.0s\n",
      "[CV 3/5] END C=0.1, epsilon=0.3, gamma=0.01, kernel=linear;, score=0.942 total time=   0.0s\n",
      "[CV 4/5] END C=0.1, epsilon=0.3, gamma=0.01, kernel=linear;, score=0.923 total time=   0.0s\n",
      "[CV 5/5] END C=0.1, epsilon=0.3, gamma=0.01, kernel=linear;, score=0.929 total time=   0.0s\n",
      "[CV 1/5] END C=0.1, epsilon=0.3, gamma=0.001, kernel=linear;, score=0.944 total time=   0.0s\n",
      "[CV 2/5] END C=0.1, epsilon=0.3, gamma=0.001, kernel=linear;, score=0.927 total time=   0.0s\n",
      "[CV 3/5] END C=0.1, epsilon=0.3, gamma=0.001, kernel=linear;, score=0.942 total time=   0.0s\n",
      "[CV 4/5] END C=0.1, epsilon=0.3, gamma=0.001, kernel=linear;, score=0.923 total time=   0.0s\n",
      "[CV 5/5] END C=0.1, epsilon=0.3, gamma=0.001, kernel=linear;, score=0.929 total time=   0.0s\n",
      "[CV 1/5] END C=0.1, epsilon=0.3, gamma=0.0001, kernel=linear;, score=0.944 total time=   0.0s\n",
      "[CV 2/5] END C=0.1, epsilon=0.3, gamma=0.0001, kernel=linear;, score=0.927 total time=   0.0s\n",
      "[CV 3/5] END C=0.1, epsilon=0.3, gamma=0.0001, kernel=linear;, score=0.942 total time=   0.0s\n",
      "[CV 4/5] END C=0.1, epsilon=0.3, gamma=0.0001, kernel=linear;, score=0.923 total time=   0.0s\n",
      "[CV 5/5] END C=0.1, epsilon=0.3, gamma=0.0001, kernel=linear;, score=0.929 total time=   0.0s\n",
      "[CV 1/5] END C=1, epsilon=0.1, gamma=1, kernel=linear;, score=0.997 total time=   0.0s\n",
      "[CV 2/5] END C=1, epsilon=0.1, gamma=1, kernel=linear;, score=0.998 total time=   0.0s\n",
      "[CV 3/5] END C=1, epsilon=0.1, gamma=1, kernel=linear;, score=0.998 total time=   0.0s\n",
      "[CV 4/5] END C=1, epsilon=0.1, gamma=1, kernel=linear;, score=0.998 total time=   0.0s\n",
      "[CV 5/5] END C=1, epsilon=0.1, gamma=1, kernel=linear;, score=0.998 total time=   0.0s\n",
      "[CV 1/5] END C=1, epsilon=0.1, gamma=0.1, kernel=linear;, score=0.997 total time=   0.0s\n",
      "[CV 2/5] END C=1, epsilon=0.1, gamma=0.1, kernel=linear;, score=0.998 total time=   0.0s\n",
      "[CV 3/5] END C=1, epsilon=0.1, gamma=0.1, kernel=linear;, score=0.998 total time=   0.0s\n",
      "[CV 4/5] END C=1, epsilon=0.1, gamma=0.1, kernel=linear;, score=0.998 total time=   0.0s\n",
      "[CV 5/5] END C=1, epsilon=0.1, gamma=0.1, kernel=linear;, score=0.998 total time=   0.0s\n",
      "[CV 1/5] END C=1, epsilon=0.1, gamma=0.01, kernel=linear;, score=0.997 total time=   0.0s\n",
      "[CV 2/5] END C=1, epsilon=0.1, gamma=0.01, kernel=linear;, score=0.998 total time=   0.0s\n",
      "[CV 3/5] END C=1, epsilon=0.1, gamma=0.01, kernel=linear;, score=0.998 total time=   0.0s\n",
      "[CV 4/5] END C=1, epsilon=0.1, gamma=0.01, kernel=linear;, score=0.998 total time=   0.0s\n",
      "[CV 5/5] END C=1, epsilon=0.1, gamma=0.01, kernel=linear;, score=0.998 total time=   0.0s\n",
      "[CV 1/5] END C=1, epsilon=0.1, gamma=0.001, kernel=linear;, score=0.997 total time=   0.0s\n",
      "[CV 2/5] END C=1, epsilon=0.1, gamma=0.001, kernel=linear;, score=0.998 total time=   0.0s\n",
      "[CV 3/5] END C=1, epsilon=0.1, gamma=0.001, kernel=linear;, score=0.998 total time=   0.0s\n",
      "[CV 4/5] END C=1, epsilon=0.1, gamma=0.001, kernel=linear;, score=0.998 total time=   0.0s\n",
      "[CV 5/5] END C=1, epsilon=0.1, gamma=0.001, kernel=linear;, score=0.998 total time=   0.0s\n",
      "[CV 1/5] END C=1, epsilon=0.1, gamma=0.0001, kernel=linear;, score=0.997 total time=   0.0s\n",
      "[CV 2/5] END C=1, epsilon=0.1, gamma=0.0001, kernel=linear;, score=0.998 total time=   0.0s\n",
      "[CV 3/5] END C=1, epsilon=0.1, gamma=0.0001, kernel=linear;, score=0.998 total time=   0.0s\n",
      "[CV 4/5] END C=1, epsilon=0.1, gamma=0.0001, kernel=linear;, score=0.998 total time=   0.0s\n",
      "[CV 5/5] END C=1, epsilon=0.1, gamma=0.0001, kernel=linear;, score=0.998 total time=   0.0s\n",
      "[CV 1/5] END C=1, epsilon=0.2, gamma=1, kernel=linear;, score=0.997 total time=   0.0s\n",
      "[CV 2/5] END C=1, epsilon=0.2, gamma=1, kernel=linear;, score=0.998 total time=   0.0s\n",
      "[CV 3/5] END C=1, epsilon=0.2, gamma=1, kernel=linear;, score=0.998 total time=   0.0s\n",
      "[CV 4/5] END C=1, epsilon=0.2, gamma=1, kernel=linear;, score=0.998 total time=   0.0s\n",
      "[CV 5/5] END C=1, epsilon=0.2, gamma=1, kernel=linear;, score=0.998 total time=   0.0s\n",
      "[CV 1/5] END C=1, epsilon=0.2, gamma=0.1, kernel=linear;, score=0.997 total time=   0.0s\n",
      "[CV 2/5] END C=1, epsilon=0.2, gamma=0.1, kernel=linear;, score=0.998 total time=   0.0s\n",
      "[CV 3/5] END C=1, epsilon=0.2, gamma=0.1, kernel=linear;, score=0.998 total time=   0.0s\n",
      "[CV 4/5] END C=1, epsilon=0.2, gamma=0.1, kernel=linear;, score=0.998 total time=   0.0s\n",
      "[CV 5/5] END C=1, epsilon=0.2, gamma=0.1, kernel=linear;, score=0.998 total time=   0.0s\n",
      "[CV 1/5] END C=1, epsilon=0.2, gamma=0.01, kernel=linear;, score=0.997 total time=   0.0s\n",
      "[CV 2/5] END C=1, epsilon=0.2, gamma=0.01, kernel=linear;, score=0.998 total time=   0.0s\n",
      "[CV 3/5] END C=1, epsilon=0.2, gamma=0.01, kernel=linear;, score=0.998 total time=   0.0s\n",
      "[CV 4/5] END C=1, epsilon=0.2, gamma=0.01, kernel=linear;, score=0.998 total time=   0.0s\n",
      "[CV 5/5] END C=1, epsilon=0.2, gamma=0.01, kernel=linear;, score=0.998 total time=   0.0s\n",
      "[CV 1/5] END C=1, epsilon=0.2, gamma=0.001, kernel=linear;, score=0.997 total time=   0.0s\n",
      "[CV 2/5] END C=1, epsilon=0.2, gamma=0.001, kernel=linear;, score=0.998 total time=   0.0s\n",
      "[CV 3/5] END C=1, epsilon=0.2, gamma=0.001, kernel=linear;, score=0.998 total time=   0.0s\n",
      "[CV 4/5] END C=1, epsilon=0.2, gamma=0.001, kernel=linear;, score=0.998 total time=   0.0s\n",
      "[CV 5/5] END C=1, epsilon=0.2, gamma=0.001, kernel=linear;, score=0.998 total time=   0.0s\n",
      "[CV 1/5] END C=1, epsilon=0.2, gamma=0.0001, kernel=linear;, score=0.997 total time=   0.0s\n",
      "[CV 2/5] END C=1, epsilon=0.2, gamma=0.0001, kernel=linear;, score=0.998 total time=   0.0s\n",
      "[CV 3/5] END C=1, epsilon=0.2, gamma=0.0001, kernel=linear;, score=0.998 total time=   0.0s\n",
      "[CV 4/5] END C=1, epsilon=0.2, gamma=0.0001, kernel=linear;, score=0.998 total time=   0.0s\n",
      "[CV 5/5] END C=1, epsilon=0.2, gamma=0.0001, kernel=linear;, score=0.998 total time=   0.0s\n",
      "[CV 1/5] END C=1, epsilon=0.3, gamma=1, kernel=linear;, score=0.997 total time=   0.0s\n",
      "[CV 2/5] END C=1, epsilon=0.3, gamma=1, kernel=linear;, score=0.998 total time=   0.0s\n",
      "[CV 3/5] END C=1, epsilon=0.3, gamma=1, kernel=linear;, score=0.998 total time=   0.0s\n",
      "[CV 4/5] END C=1, epsilon=0.3, gamma=1, kernel=linear;, score=0.998 total time=   0.0s\n",
      "[CV 5/5] END C=1, epsilon=0.3, gamma=1, kernel=linear;, score=0.998 total time=   0.0s\n",
      "[CV 1/5] END C=1, epsilon=0.3, gamma=0.1, kernel=linear;, score=0.997 total time=   0.0s\n",
      "[CV 2/5] END C=1, epsilon=0.3, gamma=0.1, kernel=linear;, score=0.998 total time=   0.0s\n",
      "[CV 3/5] END C=1, epsilon=0.3, gamma=0.1, kernel=linear;, score=0.998 total time=   0.0s\n",
      "[CV 4/5] END C=1, epsilon=0.3, gamma=0.1, kernel=linear;, score=0.998 total time=   0.0s\n",
      "[CV 5/5] END C=1, epsilon=0.3, gamma=0.1, kernel=linear;, score=0.998 total time=   0.0s\n",
      "[CV 1/5] END C=1, epsilon=0.3, gamma=0.01, kernel=linear;, score=0.997 total time=   0.0s\n",
      "[CV 2/5] END C=1, epsilon=0.3, gamma=0.01, kernel=linear;, score=0.998 total time=   0.0s\n",
      "[CV 3/5] END C=1, epsilon=0.3, gamma=0.01, kernel=linear;, score=0.998 total time=   0.0s\n",
      "[CV 4/5] END C=1, epsilon=0.3, gamma=0.01, kernel=linear;, score=0.998 total time=   0.0s\n",
      "[CV 5/5] END C=1, epsilon=0.3, gamma=0.01, kernel=linear;, score=0.998 total time=   0.0s\n",
      "[CV 1/5] END C=1, epsilon=0.3, gamma=0.001, kernel=linear;, score=0.997 total time=   0.0s\n",
      "[CV 2/5] END C=1, epsilon=0.3, gamma=0.001, kernel=linear;, score=0.998 total time=   0.0s\n",
      "[CV 3/5] END C=1, epsilon=0.3, gamma=0.001, kernel=linear;, score=0.998 total time=   0.0s\n",
      "[CV 4/5] END C=1, epsilon=0.3, gamma=0.001, kernel=linear;, score=0.998 total time=   0.0s\n",
      "[CV 5/5] END C=1, epsilon=0.3, gamma=0.001, kernel=linear;, score=0.998 total time=   0.0s\n",
      "[CV 1/5] END C=1, epsilon=0.3, gamma=0.0001, kernel=linear;, score=0.997 total time=   0.0s\n",
      "[CV 2/5] END C=1, epsilon=0.3, gamma=0.0001, kernel=linear;, score=0.998 total time=   0.0s\n",
      "[CV 3/5] END C=1, epsilon=0.3, gamma=0.0001, kernel=linear;, score=0.998 total time=   0.0s\n",
      "[CV 4/5] END C=1, epsilon=0.3, gamma=0.0001, kernel=linear;, score=0.998 total time=   0.0s\n",
      "[CV 5/5] END C=1, epsilon=0.3, gamma=0.0001, kernel=linear;, score=0.998 total time=   0.0s\n",
      "[CV 1/5] END C=10, epsilon=0.1, gamma=1, kernel=linear;, score=0.997 total time=   0.0s\n",
      "[CV 2/5] END C=10, epsilon=0.1, gamma=1, kernel=linear;, score=0.998 total time=   0.0s\n",
      "[CV 3/5] END C=10, epsilon=0.1, gamma=1, kernel=linear;, score=0.998 total time=   0.0s\n",
      "[CV 4/5] END C=10, epsilon=0.1, gamma=1, kernel=linear;, score=0.998 total time=   0.0s\n",
      "[CV 5/5] END C=10, epsilon=0.1, gamma=1, kernel=linear;, score=0.998 total time=   0.0s\n",
      "[CV 1/5] END C=10, epsilon=0.1, gamma=0.1, kernel=linear;, score=0.997 total time=   0.0s\n",
      "[CV 2/5] END C=10, epsilon=0.1, gamma=0.1, kernel=linear;, score=0.998 total time=   0.0s\n",
      "[CV 3/5] END C=10, epsilon=0.1, gamma=0.1, kernel=linear;, score=0.998 total time=   0.0s\n",
      "[CV 4/5] END C=10, epsilon=0.1, gamma=0.1, kernel=linear;, score=0.998 total time=   0.0s\n",
      "[CV 5/5] END C=10, epsilon=0.1, gamma=0.1, kernel=linear;, score=0.998 total time=   0.0s\n",
      "[CV 1/5] END C=10, epsilon=0.1, gamma=0.01, kernel=linear;, score=0.997 total time=   0.0s\n",
      "[CV 2/5] END C=10, epsilon=0.1, gamma=0.01, kernel=linear;, score=0.998 total time=   0.0s\n",
      "[CV 3/5] END C=10, epsilon=0.1, gamma=0.01, kernel=linear;, score=0.998 total time=   0.0s\n",
      "[CV 4/5] END C=10, epsilon=0.1, gamma=0.01, kernel=linear;, score=0.998 total time=   0.0s\n",
      "[CV 5/5] END C=10, epsilon=0.1, gamma=0.01, kernel=linear;, score=0.998 total time=   0.0s\n",
      "[CV 1/5] END C=10, epsilon=0.1, gamma=0.001, kernel=linear;, score=0.997 total time=   0.0s\n",
      "[CV 2/5] END C=10, epsilon=0.1, gamma=0.001, kernel=linear;, score=0.998 total time=   0.0s\n",
      "[CV 3/5] END C=10, epsilon=0.1, gamma=0.001, kernel=linear;, score=0.998 total time=   0.0s\n",
      "[CV 4/5] END C=10, epsilon=0.1, gamma=0.001, kernel=linear;, score=0.998 total time=   0.0s\n",
      "[CV 5/5] END C=10, epsilon=0.1, gamma=0.001, kernel=linear;, score=0.998 total time=   0.0s\n",
      "[CV 1/5] END C=10, epsilon=0.1, gamma=0.0001, kernel=linear;, score=0.997 total time=   0.0s\n",
      "[CV 2/5] END C=10, epsilon=0.1, gamma=0.0001, kernel=linear;, score=0.998 total time=   0.0s\n",
      "[CV 3/5] END C=10, epsilon=0.1, gamma=0.0001, kernel=linear;, score=0.998 total time=   0.0s\n",
      "[CV 4/5] END C=10, epsilon=0.1, gamma=0.0001, kernel=linear;, score=0.998 total time=   0.0s\n",
      "[CV 5/5] END C=10, epsilon=0.1, gamma=0.0001, kernel=linear;, score=0.998 total time=   0.0s\n",
      "[CV 1/5] END C=10, epsilon=0.2, gamma=1, kernel=linear;, score=0.997 total time=   0.0s\n",
      "[CV 2/5] END C=10, epsilon=0.2, gamma=1, kernel=linear;, score=0.998 total time=   0.0s\n",
      "[CV 3/5] END C=10, epsilon=0.2, gamma=1, kernel=linear;, score=0.998 total time=   0.0s\n",
      "[CV 4/5] END C=10, epsilon=0.2, gamma=1, kernel=linear;, score=0.998 total time=   0.0s\n",
      "[CV 5/5] END C=10, epsilon=0.2, gamma=1, kernel=linear;, score=0.998 total time=   0.0s\n",
      "[CV 1/5] END C=10, epsilon=0.2, gamma=0.1, kernel=linear;, score=0.997 total time=   0.0s\n",
      "[CV 2/5] END C=10, epsilon=0.2, gamma=0.1, kernel=linear;, score=0.998 total time=   0.0s\n",
      "[CV 3/5] END C=10, epsilon=0.2, gamma=0.1, kernel=linear;, score=0.998 total time=   0.0s\n",
      "[CV 4/5] END C=10, epsilon=0.2, gamma=0.1, kernel=linear;, score=0.998 total time=   0.0s\n",
      "[CV 5/5] END C=10, epsilon=0.2, gamma=0.1, kernel=linear;, score=0.998 total time=   0.0s\n",
      "[CV 1/5] END C=10, epsilon=0.2, gamma=0.01, kernel=linear;, score=0.997 total time=   0.0s\n",
      "[CV 2/5] END C=10, epsilon=0.2, gamma=0.01, kernel=linear;, score=0.998 total time=   0.0s\n",
      "[CV 3/5] END C=10, epsilon=0.2, gamma=0.01, kernel=linear;, score=0.998 total time=   0.0s\n",
      "[CV 4/5] END C=10, epsilon=0.2, gamma=0.01, kernel=linear;, score=0.998 total time=   0.0s\n",
      "[CV 5/5] END C=10, epsilon=0.2, gamma=0.01, kernel=linear;, score=0.998 total time=   0.0s\n",
      "[CV 1/5] END C=10, epsilon=0.2, gamma=0.001, kernel=linear;, score=0.997 total time=   0.0s\n",
      "[CV 2/5] END C=10, epsilon=0.2, gamma=0.001, kernel=linear;, score=0.998 total time=   0.0s\n",
      "[CV 3/5] END C=10, epsilon=0.2, gamma=0.001, kernel=linear;, score=0.998 total time=   0.0s\n",
      "[CV 4/5] END C=10, epsilon=0.2, gamma=0.001, kernel=linear;, score=0.998 total time=   0.0s\n",
      "[CV 5/5] END C=10, epsilon=0.2, gamma=0.001, kernel=linear;, score=0.998 total time=   0.0s\n",
      "[CV 1/5] END C=10, epsilon=0.2, gamma=0.0001, kernel=linear;, score=0.997 total time=   0.0s\n",
      "[CV 2/5] END C=10, epsilon=0.2, gamma=0.0001, kernel=linear;, score=0.998 total time=   0.0s\n",
      "[CV 3/5] END C=10, epsilon=0.2, gamma=0.0001, kernel=linear;, score=0.998 total time=   0.0s\n",
      "[CV 4/5] END C=10, epsilon=0.2, gamma=0.0001, kernel=linear;, score=0.998 total time=   0.0s\n",
      "[CV 5/5] END C=10, epsilon=0.2, gamma=0.0001, kernel=linear;, score=0.998 total time=   0.0s\n",
      "[CV 1/5] END C=10, epsilon=0.3, gamma=1, kernel=linear;, score=0.997 total time=   0.0s\n",
      "[CV 2/5] END C=10, epsilon=0.3, gamma=1, kernel=linear;, score=0.998 total time=   0.0s\n",
      "[CV 3/5] END C=10, epsilon=0.3, gamma=1, kernel=linear;, score=0.998 total time=   0.0s\n",
      "[CV 4/5] END C=10, epsilon=0.3, gamma=1, kernel=linear;, score=0.998 total time=   0.0s\n",
      "[CV 5/5] END C=10, epsilon=0.3, gamma=1, kernel=linear;, score=0.998 total time=   0.0s\n",
      "[CV 1/5] END C=10, epsilon=0.3, gamma=0.1, kernel=linear;, score=0.997 total time=   0.0s\n",
      "[CV 2/5] END C=10, epsilon=0.3, gamma=0.1, kernel=linear;, score=0.998 total time=   0.0s\n",
      "[CV 3/5] END C=10, epsilon=0.3, gamma=0.1, kernel=linear;, score=0.998 total time=   0.0s\n",
      "[CV 4/5] END C=10, epsilon=0.3, gamma=0.1, kernel=linear;, score=0.998 total time=   0.0s\n",
      "[CV 5/5] END C=10, epsilon=0.3, gamma=0.1, kernel=linear;, score=0.998 total time=   0.0s\n",
      "[CV 1/5] END C=10, epsilon=0.3, gamma=0.01, kernel=linear;, score=0.997 total time=   0.0s\n",
      "[CV 2/5] END C=10, epsilon=0.3, gamma=0.01, kernel=linear;, score=0.998 total time=   0.0s\n",
      "[CV 3/5] END C=10, epsilon=0.3, gamma=0.01, kernel=linear;, score=0.998 total time=   0.0s\n",
      "[CV 4/5] END C=10, epsilon=0.3, gamma=0.01, kernel=linear;, score=0.998 total time=   0.0s\n",
      "[CV 5/5] END C=10, epsilon=0.3, gamma=0.01, kernel=linear;, score=0.998 total time=   0.0s\n",
      "[CV 1/5] END C=10, epsilon=0.3, gamma=0.001, kernel=linear;, score=0.997 total time=   0.0s\n",
      "[CV 2/5] END C=10, epsilon=0.3, gamma=0.001, kernel=linear;, score=0.998 total time=   0.0s\n",
      "[CV 3/5] END C=10, epsilon=0.3, gamma=0.001, kernel=linear;, score=0.998 total time=   0.0s\n",
      "[CV 4/5] END C=10, epsilon=0.3, gamma=0.001, kernel=linear;, score=0.998 total time=   0.0s\n",
      "[CV 5/5] END C=10, epsilon=0.3, gamma=0.001, kernel=linear;, score=0.998 total time=   0.0s\n",
      "[CV 1/5] END C=10, epsilon=0.3, gamma=0.0001, kernel=linear;, score=0.997 total time=   0.0s\n",
      "[CV 2/5] END C=10, epsilon=0.3, gamma=0.0001, kernel=linear;, score=0.998 total time=   0.0s\n",
      "[CV 3/5] END C=10, epsilon=0.3, gamma=0.0001, kernel=linear;, score=0.998 total time=   0.0s\n",
      "[CV 4/5] END C=10, epsilon=0.3, gamma=0.0001, kernel=linear;, score=0.998 total time=   0.0s\n",
      "[CV 5/5] END C=10, epsilon=0.3, gamma=0.0001, kernel=linear;, score=0.998 total time=   0.0s\n",
      "[CV 1/5] END C=100, epsilon=0.1, gamma=1, kernel=linear;, score=0.997 total time=   0.2s\n",
      "[CV 2/5] END C=100, epsilon=0.1, gamma=1, kernel=linear;, score=0.998 total time=   0.1s\n",
      "[CV 3/5] END C=100, epsilon=0.1, gamma=1, kernel=linear;, score=0.998 total time=   0.1s\n",
      "[CV 4/5] END C=100, epsilon=0.1, gamma=1, kernel=linear;, score=0.998 total time=   0.1s\n",
      "[CV 5/5] END C=100, epsilon=0.1, gamma=1, kernel=linear;, score=0.998 total time=   0.1s\n",
      "[CV 1/5] END C=100, epsilon=0.1, gamma=0.1, kernel=linear;, score=0.997 total time=   0.2s\n",
      "[CV 2/5] END C=100, epsilon=0.1, gamma=0.1, kernel=linear;, score=0.998 total time=   0.1s\n",
      "[CV 3/5] END C=100, epsilon=0.1, gamma=0.1, kernel=linear;, score=0.998 total time=   0.1s\n",
      "[CV 4/5] END C=100, epsilon=0.1, gamma=0.1, kernel=linear;, score=0.998 total time=   0.1s\n",
      "[CV 5/5] END C=100, epsilon=0.1, gamma=0.1, kernel=linear;, score=0.998 total time=   0.1s\n",
      "[CV 1/5] END C=100, epsilon=0.1, gamma=0.01, kernel=linear;, score=0.997 total time=   0.2s\n",
      "[CV 2/5] END C=100, epsilon=0.1, gamma=0.01, kernel=linear;, score=0.998 total time=   0.1s\n",
      "[CV 3/5] END C=100, epsilon=0.1, gamma=0.01, kernel=linear;, score=0.998 total time=   0.1s\n",
      "[CV 4/5] END C=100, epsilon=0.1, gamma=0.01, kernel=linear;, score=0.998 total time=   0.1s\n",
      "[CV 5/5] END C=100, epsilon=0.1, gamma=0.01, kernel=linear;, score=0.998 total time=   0.1s\n",
      "[CV 1/5] END C=100, epsilon=0.1, gamma=0.001, kernel=linear;, score=0.997 total time=   0.2s\n",
      "[CV 2/5] END C=100, epsilon=0.1, gamma=0.001, kernel=linear;, score=0.998 total time=   0.1s\n",
      "[CV 3/5] END C=100, epsilon=0.1, gamma=0.001, kernel=linear;, score=0.998 total time=   0.1s\n",
      "[CV 4/5] END C=100, epsilon=0.1, gamma=0.001, kernel=linear;, score=0.998 total time=   0.1s\n",
      "[CV 5/5] END C=100, epsilon=0.1, gamma=0.001, kernel=linear;, score=0.998 total time=   0.1s\n",
      "[CV 1/5] END C=100, epsilon=0.1, gamma=0.0001, kernel=linear;, score=0.997 total time=   0.2s\n",
      "[CV 2/5] END C=100, epsilon=0.1, gamma=0.0001, kernel=linear;, score=0.998 total time=   0.1s\n",
      "[CV 3/5] END C=100, epsilon=0.1, gamma=0.0001, kernel=linear;, score=0.998 total time=   0.1s\n",
      "[CV 4/5] END C=100, epsilon=0.1, gamma=0.0001, kernel=linear;, score=0.998 total time=   0.2s\n",
      "[CV 5/5] END C=100, epsilon=0.1, gamma=0.0001, kernel=linear;, score=0.998 total time=   0.1s\n",
      "[CV 1/5] END C=100, epsilon=0.2, gamma=1, kernel=linear;, score=0.997 total time=   0.1s\n",
      "[CV 2/5] END C=100, epsilon=0.2, gamma=1, kernel=linear;, score=0.998 total time=   0.1s\n",
      "[CV 3/5] END C=100, epsilon=0.2, gamma=1, kernel=linear;, score=0.998 total time=   0.1s\n",
      "[CV 4/5] END C=100, epsilon=0.2, gamma=1, kernel=linear;, score=0.998 total time=   0.1s\n",
      "[CV 5/5] END C=100, epsilon=0.2, gamma=1, kernel=linear;, score=0.998 total time=   0.1s\n",
      "[CV 1/5] END C=100, epsilon=0.2, gamma=0.1, kernel=linear;, score=0.997 total time=   0.1s\n",
      "[CV 2/5] END C=100, epsilon=0.2, gamma=0.1, kernel=linear;, score=0.998 total time=   0.1s\n",
      "[CV 3/5] END C=100, epsilon=0.2, gamma=0.1, kernel=linear;, score=0.998 total time=   0.1s\n",
      "[CV 4/5] END C=100, epsilon=0.2, gamma=0.1, kernel=linear;, score=0.998 total time=   0.1s\n",
      "[CV 5/5] END C=100, epsilon=0.2, gamma=0.1, kernel=linear;, score=0.998 total time=   0.1s\n",
      "[CV 1/5] END C=100, epsilon=0.2, gamma=0.01, kernel=linear;, score=0.997 total time=   0.1s\n",
      "[CV 2/5] END C=100, epsilon=0.2, gamma=0.01, kernel=linear;, score=0.998 total time=   0.1s\n",
      "[CV 3/5] END C=100, epsilon=0.2, gamma=0.01, kernel=linear;, score=0.998 total time=   0.1s\n",
      "[CV 4/5] END C=100, epsilon=0.2, gamma=0.01, kernel=linear;, score=0.998 total time=   0.1s\n",
      "[CV 5/5] END C=100, epsilon=0.2, gamma=0.01, kernel=linear;, score=0.998 total time=   0.1s\n",
      "[CV 1/5] END C=100, epsilon=0.2, gamma=0.001, kernel=linear;, score=0.997 total time=   0.1s\n",
      "[CV 2/5] END C=100, epsilon=0.2, gamma=0.001, kernel=linear;, score=0.998 total time=   0.1s\n",
      "[CV 3/5] END C=100, epsilon=0.2, gamma=0.001, kernel=linear;, score=0.998 total time=   0.1s\n",
      "[CV 4/5] END C=100, epsilon=0.2, gamma=0.001, kernel=linear;, score=0.998 total time=   0.1s\n",
      "[CV 5/5] END C=100, epsilon=0.2, gamma=0.001, kernel=linear;, score=0.998 total time=   0.1s\n",
      "[CV 1/5] END C=100, epsilon=0.2, gamma=0.0001, kernel=linear;, score=0.997 total time=   0.1s\n",
      "[CV 2/5] END C=100, epsilon=0.2, gamma=0.0001, kernel=linear;, score=0.998 total time=   0.1s\n",
      "[CV 3/5] END C=100, epsilon=0.2, gamma=0.0001, kernel=linear;, score=0.998 total time=   0.1s\n",
      "[CV 4/5] END C=100, epsilon=0.2, gamma=0.0001, kernel=linear;, score=0.998 total time=   0.1s\n",
      "[CV 5/5] END C=100, epsilon=0.2, gamma=0.0001, kernel=linear;, score=0.998 total time=   0.1s\n",
      "[CV 1/5] END C=100, epsilon=0.3, gamma=1, kernel=linear;, score=0.997 total time=   0.1s\n",
      "[CV 2/5] END C=100, epsilon=0.3, gamma=1, kernel=linear;, score=0.998 total time=   0.1s\n",
      "[CV 3/5] END C=100, epsilon=0.3, gamma=1, kernel=linear;, score=0.998 total time=   0.1s\n",
      "[CV 4/5] END C=100, epsilon=0.3, gamma=1, kernel=linear;, score=0.998 total time=   0.1s\n",
      "[CV 5/5] END C=100, epsilon=0.3, gamma=1, kernel=linear;, score=0.998 total time=   0.1s\n",
      "[CV 1/5] END C=100, epsilon=0.3, gamma=0.1, kernel=linear;, score=0.997 total time=   0.1s\n",
      "[CV 2/5] END C=100, epsilon=0.3, gamma=0.1, kernel=linear;, score=0.998 total time=   0.1s\n",
      "[CV 3/5] END C=100, epsilon=0.3, gamma=0.1, kernel=linear;, score=0.998 total time=   0.1s\n",
      "[CV 4/5] END C=100, epsilon=0.3, gamma=0.1, kernel=linear;, score=0.998 total time=   0.1s\n",
      "[CV 5/5] END C=100, epsilon=0.3, gamma=0.1, kernel=linear;, score=0.998 total time=   0.1s\n",
      "[CV 1/5] END C=100, epsilon=0.3, gamma=0.01, kernel=linear;, score=0.997 total time=   0.1s\n",
      "[CV 2/5] END C=100, epsilon=0.3, gamma=0.01, kernel=linear;, score=0.998 total time=   0.1s\n",
      "[CV 3/5] END C=100, epsilon=0.3, gamma=0.01, kernel=linear;, score=0.998 total time=   0.1s\n",
      "[CV 4/5] END C=100, epsilon=0.3, gamma=0.01, kernel=linear;, score=0.998 total time=   0.1s\n",
      "[CV 5/5] END C=100, epsilon=0.3, gamma=0.01, kernel=linear;, score=0.998 total time=   0.1s\n",
      "[CV 1/5] END C=100, epsilon=0.3, gamma=0.001, kernel=linear;, score=0.997 total time=   0.1s\n",
      "[CV 2/5] END C=100, epsilon=0.3, gamma=0.001, kernel=linear;, score=0.998 total time=   0.1s\n",
      "[CV 3/5] END C=100, epsilon=0.3, gamma=0.001, kernel=linear;, score=0.998 total time=   0.1s\n",
      "[CV 4/5] END C=100, epsilon=0.3, gamma=0.001, kernel=linear;, score=0.998 total time=   0.1s\n",
      "[CV 5/5] END C=100, epsilon=0.3, gamma=0.001, kernel=linear;, score=0.998 total time=   0.1s\n",
      "[CV 1/5] END C=100, epsilon=0.3, gamma=0.0001, kernel=linear;, score=0.997 total time=   0.1s\n",
      "[CV 2/5] END C=100, epsilon=0.3, gamma=0.0001, kernel=linear;, score=0.998 total time=   0.1s\n",
      "[CV 3/5] END C=100, epsilon=0.3, gamma=0.0001, kernel=linear;, score=0.998 total time=   0.1s\n",
      "[CV 4/5] END C=100, epsilon=0.3, gamma=0.0001, kernel=linear;, score=0.998 total time=   0.1s\n",
      "[CV 5/5] END C=100, epsilon=0.3, gamma=0.0001, kernel=linear;, score=0.998 total time=   0.1s\n",
      "[CV 1/5] END C=1000, epsilon=0.1, gamma=1, kernel=linear;, score=0.997 total time=   1.1s\n",
      "[CV 2/5] END C=1000, epsilon=0.1, gamma=1, kernel=linear;, score=0.998 total time=   0.8s\n",
      "[CV 3/5] END C=1000, epsilon=0.1, gamma=1, kernel=linear;, score=0.998 total time=   1.1s\n",
      "[CV 4/5] END C=1000, epsilon=0.1, gamma=1, kernel=linear;, score=0.998 total time=   0.8s\n",
      "[CV 5/5] END C=1000, epsilon=0.1, gamma=1, kernel=linear;, score=0.998 total time=   0.7s\n",
      "[CV 1/5] END C=1000, epsilon=0.1, gamma=0.1, kernel=linear;, score=0.997 total time=   1.1s\n",
      "[CV 2/5] END C=1000, epsilon=0.1, gamma=0.1, kernel=linear;, score=0.998 total time=   0.8s\n",
      "[CV 3/5] END C=1000, epsilon=0.1, gamma=0.1, kernel=linear;, score=0.998 total time=   1.1s\n",
      "[CV 4/5] END C=1000, epsilon=0.1, gamma=0.1, kernel=linear;, score=0.998 total time=   0.8s\n",
      "[CV 5/5] END C=1000, epsilon=0.1, gamma=0.1, kernel=linear;, score=0.998 total time=   0.7s\n",
      "[CV 1/5] END C=1000, epsilon=0.1, gamma=0.01, kernel=linear;, score=0.997 total time=   1.1s\n",
      "[CV 2/5] END C=1000, epsilon=0.1, gamma=0.01, kernel=linear;, score=0.998 total time=   0.8s\n",
      "[CV 3/5] END C=1000, epsilon=0.1, gamma=0.01, kernel=linear;, score=0.998 total time=   1.1s\n",
      "[CV 4/5] END C=1000, epsilon=0.1, gamma=0.01, kernel=linear;, score=0.998 total time=   0.8s\n",
      "[CV 5/5] END C=1000, epsilon=0.1, gamma=0.01, kernel=linear;, score=0.998 total time=   0.7s\n",
      "[CV 1/5] END C=1000, epsilon=0.1, gamma=0.001, kernel=linear;, score=0.997 total time=   1.1s\n",
      "[CV 2/5] END C=1000, epsilon=0.1, gamma=0.001, kernel=linear;, score=0.998 total time=   0.8s\n",
      "[CV 3/5] END C=1000, epsilon=0.1, gamma=0.001, kernel=linear;, score=0.998 total time=   1.1s\n",
      "[CV 4/5] END C=1000, epsilon=0.1, gamma=0.001, kernel=linear;, score=0.998 total time=   0.8s\n",
      "[CV 5/5] END C=1000, epsilon=0.1, gamma=0.001, kernel=linear;, score=0.998 total time=   0.7s\n",
      "[CV 1/5] END C=1000, epsilon=0.1, gamma=0.0001, kernel=linear;, score=0.997 total time=   1.1s\n",
      "[CV 2/5] END C=1000, epsilon=0.1, gamma=0.0001, kernel=linear;, score=0.998 total time=   0.8s\n",
      "[CV 3/5] END C=1000, epsilon=0.1, gamma=0.0001, kernel=linear;, score=0.998 total time=   1.1s\n",
      "[CV 4/5] END C=1000, epsilon=0.1, gamma=0.0001, kernel=linear;, score=0.998 total time=   0.8s\n",
      "[CV 5/5] END C=1000, epsilon=0.1, gamma=0.0001, kernel=linear;, score=0.998 total time=   0.7s\n",
      "[CV 1/5] END C=1000, epsilon=0.2, gamma=1, kernel=linear;, score=0.997 total time=   1.0s\n",
      "[CV 2/5] END C=1000, epsilon=0.2, gamma=1, kernel=linear;, score=0.998 total time=   0.7s\n",
      "[CV 3/5] END C=1000, epsilon=0.2, gamma=1, kernel=linear;, score=0.998 total time=   0.8s\n",
      "[CV 4/5] END C=1000, epsilon=0.2, gamma=1, kernel=linear;, score=0.998 total time=   0.8s\n",
      "[CV 5/5] END C=1000, epsilon=0.2, gamma=1, kernel=linear;, score=0.998 total time=   0.7s\n",
      "[CV 1/5] END C=1000, epsilon=0.2, gamma=0.1, kernel=linear;, score=0.997 total time=   1.0s\n",
      "[CV 2/5] END C=1000, epsilon=0.2, gamma=0.1, kernel=linear;, score=0.998 total time=   0.7s\n",
      "[CV 3/5] END C=1000, epsilon=0.2, gamma=0.1, kernel=linear;, score=0.998 total time=   0.8s\n",
      "[CV 4/5] END C=1000, epsilon=0.2, gamma=0.1, kernel=linear;, score=0.998 total time=   0.8s\n",
      "[CV 5/5] END C=1000, epsilon=0.2, gamma=0.1, kernel=linear;, score=0.998 total time=   0.7s\n",
      "[CV 1/5] END C=1000, epsilon=0.2, gamma=0.01, kernel=linear;, score=0.997 total time=   1.0s\n",
      "[CV 2/5] END C=1000, epsilon=0.2, gamma=0.01, kernel=linear;, score=0.998 total time=   0.7s\n",
      "[CV 3/5] END C=1000, epsilon=0.2, gamma=0.01, kernel=linear;, score=0.998 total time=   0.8s\n",
      "[CV 4/5] END C=1000, epsilon=0.2, gamma=0.01, kernel=linear;, score=0.998 total time=   0.8s\n",
      "[CV 5/5] END C=1000, epsilon=0.2, gamma=0.01, kernel=linear;, score=0.998 total time=   0.7s\n",
      "[CV 1/5] END C=1000, epsilon=0.2, gamma=0.001, kernel=linear;, score=0.997 total time=   1.0s\n",
      "[CV 2/5] END C=1000, epsilon=0.2, gamma=0.001, kernel=linear;, score=0.998 total time=   0.7s\n",
      "[CV 3/5] END C=1000, epsilon=0.2, gamma=0.001, kernel=linear;, score=0.998 total time=   0.8s\n",
      "[CV 4/5] END C=1000, epsilon=0.2, gamma=0.001, kernel=linear;, score=0.998 total time=   0.8s\n",
      "[CV 5/5] END C=1000, epsilon=0.2, gamma=0.001, kernel=linear;, score=0.998 total time=   0.7s\n",
      "[CV 1/5] END C=1000, epsilon=0.2, gamma=0.0001, kernel=linear;, score=0.997 total time=   1.0s\n",
      "[CV 2/5] END C=1000, epsilon=0.2, gamma=0.0001, kernel=linear;, score=0.998 total time=   0.7s\n",
      "[CV 3/5] END C=1000, epsilon=0.2, gamma=0.0001, kernel=linear;, score=0.998 total time=   0.8s\n",
      "[CV 4/5] END C=1000, epsilon=0.2, gamma=0.0001, kernel=linear;, score=0.998 total time=   0.8s\n",
      "[CV 5/5] END C=1000, epsilon=0.2, gamma=0.0001, kernel=linear;, score=0.998 total time=   0.7s\n",
      "[CV 1/5] END C=1000, epsilon=0.3, gamma=1, kernel=linear;, score=0.997 total time=   1.1s\n",
      "[CV 2/5] END C=1000, epsilon=0.3, gamma=1, kernel=linear;, score=0.998 total time=   0.8s\n",
      "[CV 3/5] END C=1000, epsilon=0.3, gamma=1, kernel=linear;, score=0.998 total time=   0.8s\n",
      "[CV 4/5] END C=1000, epsilon=0.3, gamma=1, kernel=linear;, score=0.998 total time=   0.8s\n",
      "[CV 5/5] END C=1000, epsilon=0.3, gamma=1, kernel=linear;, score=0.998 total time=   0.6s\n",
      "[CV 1/5] END C=1000, epsilon=0.3, gamma=0.1, kernel=linear;, score=0.997 total time=   1.1s\n",
      "[CV 2/5] END C=1000, epsilon=0.3, gamma=0.1, kernel=linear;, score=0.998 total time=   0.8s\n",
      "[CV 3/5] END C=1000, epsilon=0.3, gamma=0.1, kernel=linear;, score=0.998 total time=   0.8s\n",
      "[CV 4/5] END C=1000, epsilon=0.3, gamma=0.1, kernel=linear;, score=0.998 total time=   0.8s\n",
      "[CV 5/5] END C=1000, epsilon=0.3, gamma=0.1, kernel=linear;, score=0.998 total time=   0.6s\n",
      "[CV 1/5] END C=1000, epsilon=0.3, gamma=0.01, kernel=linear;, score=0.997 total time=   1.1s\n",
      "[CV 2/5] END C=1000, epsilon=0.3, gamma=0.01, kernel=linear;, score=0.998 total time=   0.8s\n",
      "[CV 3/5] END C=1000, epsilon=0.3, gamma=0.01, kernel=linear;, score=0.998 total time=   0.8s\n",
      "[CV 4/5] END C=1000, epsilon=0.3, gamma=0.01, kernel=linear;, score=0.998 total time=   0.8s\n",
      "[CV 5/5] END C=1000, epsilon=0.3, gamma=0.01, kernel=linear;, score=0.998 total time=   0.6s\n",
      "[CV 1/5] END C=1000, epsilon=0.3, gamma=0.001, kernel=linear;, score=0.997 total time=   1.1s\n",
      "[CV 2/5] END C=1000, epsilon=0.3, gamma=0.001, kernel=linear;, score=0.998 total time=   0.8s\n",
      "[CV 3/5] END C=1000, epsilon=0.3, gamma=0.001, kernel=linear;, score=0.998 total time=   0.8s\n",
      "[CV 4/5] END C=1000, epsilon=0.3, gamma=0.001, kernel=linear;, score=0.998 total time=   0.8s\n",
      "[CV 5/5] END C=1000, epsilon=0.3, gamma=0.001, kernel=linear;, score=0.998 total time=   0.6s\n",
      "[CV 1/5] END C=1000, epsilon=0.3, gamma=0.0001, kernel=linear;, score=0.997 total time=   1.1s\n",
      "[CV 2/5] END C=1000, epsilon=0.3, gamma=0.0001, kernel=linear;, score=0.998 total time=   0.8s\n",
      "[CV 3/5] END C=1000, epsilon=0.3, gamma=0.0001, kernel=linear;, score=0.998 total time=   0.8s\n",
      "[CV 4/5] END C=1000, epsilon=0.3, gamma=0.0001, kernel=linear;, score=0.998 total time=   0.8s\n",
      "[CV 5/5] END C=1000, epsilon=0.3, gamma=0.0001, kernel=linear;, score=0.998 total time=   0.6s\n"
     ]
    },
    {
     "data": {
      "text/html": [
       "<style>#sk-container-id-2 {color: black;background-color: white;}#sk-container-id-2 pre{padding: 0;}#sk-container-id-2 div.sk-toggleable {background-color: white;}#sk-container-id-2 label.sk-toggleable__label {cursor: pointer;display: block;width: 100%;margin-bottom: 0;padding: 0.3em;box-sizing: border-box;text-align: center;}#sk-container-id-2 label.sk-toggleable__label-arrow:before {content: \"▸\";float: left;margin-right: 0.25em;color: #696969;}#sk-container-id-2 label.sk-toggleable__label-arrow:hover:before {color: black;}#sk-container-id-2 div.sk-estimator:hover label.sk-toggleable__label-arrow:before {color: black;}#sk-container-id-2 div.sk-toggleable__content {max-height: 0;max-width: 0;overflow: hidden;text-align: left;background-color: #f0f8ff;}#sk-container-id-2 div.sk-toggleable__content pre {margin: 0.2em;color: black;border-radius: 0.25em;background-color: #f0f8ff;}#sk-container-id-2 input.sk-toggleable__control:checked~div.sk-toggleable__content {max-height: 200px;max-width: 100%;overflow: auto;}#sk-container-id-2 input.sk-toggleable__control:checked~label.sk-toggleable__label-arrow:before {content: \"▾\";}#sk-container-id-2 div.sk-estimator input.sk-toggleable__control:checked~label.sk-toggleable__label {background-color: #d4ebff;}#sk-container-id-2 div.sk-label input.sk-toggleable__control:checked~label.sk-toggleable__label {background-color: #d4ebff;}#sk-container-id-2 input.sk-hidden--visually {border: 0;clip: rect(1px 1px 1px 1px);clip: rect(1px, 1px, 1px, 1px);height: 1px;margin: -1px;overflow: hidden;padding: 0;position: absolute;width: 1px;}#sk-container-id-2 div.sk-estimator {font-family: monospace;background-color: #f0f8ff;border: 1px dotted black;border-radius: 0.25em;box-sizing: border-box;margin-bottom: 0.5em;}#sk-container-id-2 div.sk-estimator:hover {background-color: #d4ebff;}#sk-container-id-2 div.sk-parallel-item::after {content: \"\";width: 100%;border-bottom: 1px solid gray;flex-grow: 1;}#sk-container-id-2 div.sk-label:hover label.sk-toggleable__label {background-color: #d4ebff;}#sk-container-id-2 div.sk-serial::before {content: \"\";position: absolute;border-left: 1px solid gray;box-sizing: border-box;top: 0;bottom: 0;left: 50%;z-index: 0;}#sk-container-id-2 div.sk-serial {display: flex;flex-direction: column;align-items: center;background-color: white;padding-right: 0.2em;padding-left: 0.2em;position: relative;}#sk-container-id-2 div.sk-item {position: relative;z-index: 1;}#sk-container-id-2 div.sk-parallel {display: flex;align-items: stretch;justify-content: center;background-color: white;position: relative;}#sk-container-id-2 div.sk-item::before, #sk-container-id-2 div.sk-parallel-item::before {content: \"\";position: absolute;border-left: 1px solid gray;box-sizing: border-box;top: 0;bottom: 0;left: 50%;z-index: -1;}#sk-container-id-2 div.sk-parallel-item {display: flex;flex-direction: column;z-index: 1;position: relative;background-color: white;}#sk-container-id-2 div.sk-parallel-item:first-child::after {align-self: flex-end;width: 50%;}#sk-container-id-2 div.sk-parallel-item:last-child::after {align-self: flex-start;width: 50%;}#sk-container-id-2 div.sk-parallel-item:only-child::after {width: 0;}#sk-container-id-2 div.sk-dashed-wrapped {border: 1px dashed gray;margin: 0 0.4em 0.5em 0.4em;box-sizing: border-box;padding-bottom: 0.4em;background-color: white;}#sk-container-id-2 div.sk-label label {font-family: monospace;font-weight: bold;display: inline-block;line-height: 1.2em;}#sk-container-id-2 div.sk-label-container {text-align: center;}#sk-container-id-2 div.sk-container {/* jupyter's `normalize.less` sets `[hidden] { display: none; }` but bootstrap.min.css set `[hidden] { display: none !important; }` so we also need the `!important` here to be able to override the default hidden behavior on the sphinx rendered scikit-learn.org. See: https://github.com/scikit-learn/scikit-learn/issues/21755 */display: inline-block !important;position: relative;}#sk-container-id-2 div.sk-text-repr-fallback {display: none;}</style><div id=\"sk-container-id-2\" class=\"sk-top-container\"><div class=\"sk-text-repr-fallback\"><pre>GridSearchCV(cv=5, estimator=SVR(),\n",
       "             param_grid={&#x27;C&#x27;: [0.1, 1, 10, 100, 1000],\n",
       "                         &#x27;epsilon&#x27;: [0.1, 0.2, 0.3],\n",
       "                         &#x27;gamma&#x27;: [1, 0.1, 0.01, 0.001, 0.0001],\n",
       "                         &#x27;kernel&#x27;: [&#x27;linear&#x27;]},\n",
       "             verbose=3)</pre><b>In a Jupyter environment, please rerun this cell to show the HTML representation or trust the notebook. <br />On GitHub, the HTML representation is unable to render, please try loading this page with nbviewer.org.</b></div><div class=\"sk-container\" hidden><div class=\"sk-item sk-dashed-wrapped\"><div class=\"sk-label-container\"><div class=\"sk-label sk-toggleable\"><input class=\"sk-toggleable__control sk-hidden--visually\" id=\"sk-estimator-id-2\" type=\"checkbox\" ><label for=\"sk-estimator-id-2\" class=\"sk-toggleable__label sk-toggleable__label-arrow\">GridSearchCV</label><div class=\"sk-toggleable__content\"><pre>GridSearchCV(cv=5, estimator=SVR(),\n",
       "             param_grid={&#x27;C&#x27;: [0.1, 1, 10, 100, 1000],\n",
       "                         &#x27;epsilon&#x27;: [0.1, 0.2, 0.3],\n",
       "                         &#x27;gamma&#x27;: [1, 0.1, 0.01, 0.001, 0.0001],\n",
       "                         &#x27;kernel&#x27;: [&#x27;linear&#x27;]},\n",
       "             verbose=3)</pre></div></div></div><div class=\"sk-parallel\"><div class=\"sk-parallel-item\"><div class=\"sk-item\"><div class=\"sk-label-container\"><div class=\"sk-label sk-toggleable\"><input class=\"sk-toggleable__control sk-hidden--visually\" id=\"sk-estimator-id-3\" type=\"checkbox\" ><label for=\"sk-estimator-id-3\" class=\"sk-toggleable__label sk-toggleable__label-arrow\">estimator: SVR</label><div class=\"sk-toggleable__content\"><pre>SVR()</pre></div></div></div><div class=\"sk-serial\"><div class=\"sk-item\"><div class=\"sk-estimator sk-toggleable\"><input class=\"sk-toggleable__control sk-hidden--visually\" id=\"sk-estimator-id-4\" type=\"checkbox\" ><label for=\"sk-estimator-id-4\" class=\"sk-toggleable__label sk-toggleable__label-arrow\">SVR</label><div class=\"sk-toggleable__content\"><pre>SVR()</pre></div></div></div></div></div></div></div></div></div></div>"
      ],
      "text/plain": [
       "GridSearchCV(cv=5, estimator=SVR(),\n",
       "             param_grid={'C': [0.1, 1, 10, 100, 1000],\n",
       "                         'epsilon': [0.1, 0.2, 0.3],\n",
       "                         'gamma': [1, 0.1, 0.01, 0.001, 0.0001],\n",
       "                         'kernel': ['linear']},\n",
       "             verbose=3)"
      ]
     },
     "execution_count": 19,
     "metadata": {},
     "output_type": "execute_result"
    }
   ],
   "source": [
    "grid.fit(X_train,y_train)"
   ]
  },
  {
   "cell_type": "code",
   "execution_count": 20,
   "metadata": {
    "colab": {
     "base_uri": "https://localhost:8080/"
    },
    "executionInfo": {
     "elapsed": 438,
     "status": "ok",
     "timestamp": 1693386232071,
     "user": {
      "displayName": "Vipil Khapre",
      "userId": "11657927420291305997"
     },
     "user_tz": -330
    },
    "id": "aiAhWmiEqIq8",
    "outputId": "824dce68-e429-4788-e842-6ebc502e80d2"
   },
   "outputs": [
    {
     "data": {
      "text/plain": [
       "{'C': 1000, 'epsilon': 0.1, 'gamma': 1, 'kernel': 'linear'}"
      ]
     },
     "execution_count": 20,
     "metadata": {},
     "output_type": "execute_result"
    }
   ],
   "source": [
    "grid.best_params_"
   ]
  },
  {
   "cell_type": "code",
   "execution_count": 21,
   "metadata": {
    "colab": {
     "base_uri": "https://localhost:8080/"
    },
    "executionInfo": {
     "elapsed": 15,
     "status": "ok",
     "timestamp": 1693386235597,
     "user": {
      "displayName": "Vipil Khapre",
      "userId": "11657927420291305997"
     },
     "user_tz": -330
    },
    "id": "m4Xa7ScMqIq9",
    "outputId": "db38dc21-091f-481a-9155-b090bfc9fa5c"
   },
   "outputs": [
    {
     "name": "stdout",
     "output_type": "stream",
     "text": [
      "0.9974914672758418\n"
     ]
    }
   ],
   "source": [
    "## Prediction\n",
    "y_pred4=grid.predict(X_test)\n",
    "print(r2_score(y_test,y_pred4))"
   ]
  },
  {
   "cell_type": "code",
   "execution_count": null,
   "metadata": {
    "id": "VUH5RByIqIq9"
   },
   "outputs": [],
   "source": []
  },
  {
   "cell_type": "code",
   "execution_count": null,
   "metadata": {},
   "outputs": [],
   "source": []
  }
 ],
 "metadata": {
  "colab": {
   "provenance": []
  },
  "kernelspec": {
   "display_name": "Python 3 (ipykernel)",
   "language": "python",
   "name": "python3"
  },
  "language_info": {
   "codemirror_mode": {
    "name": "ipython",
    "version": 3
   },
   "file_extension": ".py",
   "mimetype": "text/x-python",
   "name": "python",
   "nbconvert_exporter": "python",
   "pygments_lexer": "ipython3",
   "version": "3.10.8"
  }
 },
 "nbformat": 4,
 "nbformat_minor": 4
}
